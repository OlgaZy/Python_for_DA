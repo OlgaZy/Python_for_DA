{
 "cells": [
  {
   "cell_type": "markdown",
   "id": "1498e4da-05e7-4fd9-8a2b-4e275e6f7eaa",
   "metadata": {},
   "source": [
    "1. Імпортуйте бібліотеку pandas в загальноприйнятому форматі."
   ]
  },
  {
   "cell_type": "code",
   "execution_count": 12,
   "id": "c6edd3ce-2fb3-4f09-a552-3e17b963a544",
   "metadata": {},
   "outputs": [],
   "source": [
    "import pandas as pd\n",
    "import numpy as np"
   ]
  },
  {
   "cell_type": "markdown",
   "id": "8a796a93-eceb-4bc1-8dd2-67b0f3826cd0",
   "metadata": {},
   "source": [
    "2. За допомогою бібліотеки Pandas, викликом однієї функції зчитайте набір даних із файлу `supermarket_sales.csv` в змінну `df` типу `pandas.DataFrame`.\n",
    "Виведіть тип даних змінної `df`."
   ]
  },
  {
   "cell_type": "code",
   "execution_count": 13,
   "id": "f7430375-b35d-4dfe-8eea-30e154e18dca",
   "metadata": {},
   "outputs": [
    {
     "name": "stdout",
     "output_type": "stream",
     "text": [
      "\u001b[34mData\u001b[m\u001b[m      \u001b[34mHometasks\u001b[m\u001b[m \u001b[34mLessons\u001b[m\u001b[m\n"
     ]
    }
   ],
   "source": [
    "!ls"
   ]
  },
  {
   "cell_type": "code",
   "execution_count": 14,
   "id": "5ad220a7-0184-43a4-9ae6-8d9fbe58ce02",
   "metadata": {},
   "outputs": [],
   "source": [
    "df = pd.read_csv('Data/supermarket_sales.csv')"
   ]
  },
  {
   "cell_type": "code",
   "execution_count": 15,
   "id": "f86bef0d-da2e-4ed0-bccb-344b1d929ecc",
   "metadata": {},
   "outputs": [
    {
     "data": {
      "text/plain": [
       "pandas.core.frame.DataFrame"
      ]
     },
     "execution_count": 15,
     "metadata": {},
     "output_type": "execute_result"
    }
   ],
   "source": [
    "type(df)"
   ]
  },
  {
   "cell_type": "markdown",
   "id": "b3e85fc1-1d79-4be5-865d-0e325dd0b1bb",
   "metadata": {},
   "source": [
    "3. Виведіть кількість рядків і кількість колонок в наборі даних. Відповідь сформуйте використовуючи fstring у наступному форматі: Набір даних містить 1000 рядків та 17 колонок\n"
   ]
  },
  {
   "cell_type": "code",
   "execution_count": 16,
   "id": "147071a9-b844-4fab-8660-1dff172e268e",
   "metadata": {},
   "outputs": [
    {
     "data": {
      "text/plain": [
       "(1000, 17)"
      ]
     },
     "execution_count": 16,
     "metadata": {},
     "output_type": "execute_result"
    }
   ],
   "source": [
    "rows, columns = df.shape\n",
    "rows, columns"
   ]
  },
  {
   "cell_type": "code",
   "execution_count": 17,
   "id": "5c3d9c8a-b498-4d28-abb2-0f56756a6f20",
   "metadata": {},
   "outputs": [
    {
     "name": "stdout",
     "output_type": "stream",
     "text": [
      "Набір даних містить 1000 рядків та 17 колонок\n"
     ]
    }
   ],
   "source": [
    "print(f\"Набір даних містить {rows} рядків та {columns} колонок\")"
   ]
  },
  {
   "cell_type": "markdown",
   "id": "106449ef-dfd7-4d77-8cf0-1dade061037f",
   "metadata": {},
   "source": [
    "4. Скільки оперативної памʼяті у мегабайтах займає даний набір даних? Обчисліть за допомогою pandas і виведіть на екран."
   ]
  },
  {
   "cell_type": "code",
   "execution_count": 18,
   "id": "f4bdaf96-33e8-4375-b4df-8b4e1faf8e1a",
   "metadata": {},
   "outputs": [
    {
     "data": {
      "text/plain": [
       "0.12982559204101562"
      ]
     },
     "execution_count": 18,
     "metadata": {},
     "output_type": "execute_result"
    }
   ],
   "source": [
    "total_mgb = df.memory_usage().sum()  / (1024*1024)\n",
    "total_mgb"
   ]
  },
  {
   "cell_type": "code",
   "execution_count": null,
   "id": "a2371e89-d255-464c-8008-c950ea3c3a98",
   "metadata": {},
   "outputs": [],
   "source": []
  }
 ],
 "metadata": {
  "kernelspec": {
   "display_name": "Python [conda env:base] *",
   "language": "python",
   "name": "conda-base-py"
  },
  "language_info": {
   "codemirror_mode": {
    "name": "ipython",
    "version": 3
   },
   "file_extension": ".py",
   "mimetype": "text/x-python",
   "name": "python",
   "nbconvert_exporter": "python",
   "pygments_lexer": "ipython3",
   "version": "3.11.7"
  }
 },
 "nbformat": 4,
 "nbformat_minor": 5
}
