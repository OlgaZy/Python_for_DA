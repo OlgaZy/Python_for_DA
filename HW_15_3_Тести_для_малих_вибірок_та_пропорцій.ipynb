{
  "cells": [
    {
      "cell_type": "markdown",
      "metadata": {
        "id": "view-in-github",
        "colab_type": "text"
      },
      "source": [
        "<a href=\"https://colab.research.google.com/github/OlgaZy/Python_for_DA/blob/main/HW_15_3_%D0%A2%D0%B5%D1%81%D1%82%D0%B8_%D0%B4%D0%BB%D1%8F_%D0%BC%D0%B0%D0%BB%D0%B8%D1%85_%D0%B2%D0%B8%D0%B1%D1%96%D1%80%D0%BE%D0%BA_%D1%82%D0%B0_%D0%BF%D1%80%D0%BE%D0%BF%D0%BE%D1%80%D1%86%D1%96%D0%B9.ipynb\" target=\"_parent\"><img src=\"https://colab.research.google.com/assets/colab-badge.svg\" alt=\"Open In Colab\"/></a>"
      ]
    },
    {
      "cell_type": "markdown",
      "id": "e152f6d6",
      "metadata": {
        "ExecuteTime": {
          "end_time": "2022-12-10T14:29:24.703416Z",
          "start_time": "2022-12-10T14:29:24.688485Z"
        },
        "id": "e152f6d6"
      },
      "source": [
        "# Тести для малих вибірок та пропорцій\n",
        "\n"
      ]
    },
    {
      "cell_type": "code",
      "source": [
        "import numpy as np\n",
        "from scipy import stats"
      ],
      "metadata": {
        "id": "E56D1XTcIB-I"
      },
      "id": "E56D1XTcIB-I",
      "execution_count": null,
      "outputs": []
    },
    {
      "cell_type": "markdown",
      "id": "abdcef5d",
      "metadata": {
        "id": "abdcef5d"
      },
      "source": [
        "## **Завдання 1**\n",
        "E-commerce компанія після редизайну сайту підозрює, що **середній час до покупки (time-to-purchase)** користувачів **збільшився**.\n",
        "Історично середній час від першого заходу на сайт до покупки становив $\\mu_0 = 123.7$ хвилин.\n",
        "\n",
        "Команда аналітиків випадково обрала дані **7 покупців після редизайну**:\n",
        "`128, 135, 121, 142, 126, 151, 123`\n",
        "\n",
        "З допомогою наявних даних зʼясуйте, чи збільшився середній час покупки після редизайну.\n",
        "\n",
        "Для цього виконайте наступні 6 кроків. Правильне виконання кожного з кроків оцінюється в 1 бал.\n",
        "\n",
        "1. Запишіть нульову та альтернативну гіпотези і визначте тип тесту.\n",
        "2. Обчисліть вибіркові статистики: $\\bar x$, $s$, $n$.\n",
        "3. Оберіть тип тесту та виконайте його (знайдіть критичне значення тесту, статистику тесту та р-значення) будь-яким пасуючим способом, щоб перевірити гіпотезу на рівні значущості $\\alpha = 0.10$.\n",
        "4. Прийміть рішення, чи відхиляєте ви гіпотезу $H_0$ використовуючи p-value.\n",
        "5. Напишіть висновок: чи справді редизайн сайту подовжив час до покупки?\n",
        "6. Чи зміниться ваше рішення при зміні рівня значущості на $\\alpha = 0.05$.\n"
      ]
    },
    {
      "cell_type": "markdown",
      "source": [
        "**Крок 1: Формулюємо гіпотези**\n",
        "\n",
        "H₀: μ = 123.7  хв (середній час до покупки (time-to-purchase) становить 123.7  хв)\n",
        "\n",
        "H₁: μ > 123.7  хв (після реизайну середній час до покупки (time-to-purchase) став більшим за 123.7  хв)\n",
        "\n",
        "Тип тесту: правосторонній (one-tailed)\n",
        "\n",
        "Рівень значущості  𝛼=0.10"
      ],
      "metadata": {
        "id": "U51rNepEGwU9"
      },
      "id": "U51rNepEGwU9"
    },
    {
      "cell_type": "markdown",
      "source": [
        "**Крок 2. Обчислення вибіркової статистики: $\\bar x$, $s$, $n$.**\n",
        "\n",
        "**Крок 3. Вибір типу тесту та виконання його (критичне значення тесту, статистики тесту та р-значення), щоб перевірити гіпотезу на рівні значущості  𝛼=0.10.**"
      ],
      "metadata": {
        "id": "Soqrsj7vKFHW"
      },
      "id": "Soqrsj7vKFHW"
    },
    {
      "cell_type": "code",
      "source": [
        "# Дані з умови\n",
        "time_to_purchase = np.array([128, 135, 121, 142, 126, 151, 123])\n",
        "mu0 = 123.7   # середній час до покупки\n",
        "alpha = 0.10\n",
        "\n",
        "# 1. Обчислимо вибіркову статистику\n",
        "x_bar = np.mean(time_to_purchase)\n",
        "s = np.std(time_to_purchase, ddof=1)   # стандартне відхилення з n-1\n",
        "n = len(time_to_purchase)\n",
        "\n",
        "# 2. Обчислимо t-статистику вручну\n",
        "t_stat = (x_bar - mu0) / (s / np.sqrt(n))\n",
        "\n",
        "# 3. Критичне значення для правостороннього тесту\n",
        "df = n - 1\n",
        "t_crit = stats.t.ppf(1-alpha, df)\n",
        "\n",
        "#  4. p-value\n",
        "p_value = 1- stats.t.cdf(t_stat, df)"
      ],
      "metadata": {
        "id": "5nIyBWATGwDa"
      },
      "id": "5nIyBWATGwDa",
      "execution_count": null,
      "outputs": []
    },
    {
      "cell_type": "markdown",
      "source": [
        "**Крок 4. Прийміть рішення, чи відхиляєте ви гіпотезу  $H_0$  використовуючи p-value.**"
      ],
      "metadata": {
        "id": "etsn-iSxOt3F"
      },
      "id": "etsn-iSxOt3F"
    },
    {
      "cell_type": "code",
      "source": [
        "print(f\"Вибіркове середнє: {x_bar:.3f}\")\n",
        "print(f\"Вибіркове стандартне відхилення: {s:.3f}\")\n",
        "print(f\"t-статистика: {t_stat:.3f}\")\n",
        "print(f\"Критичне значення (df={df}): {t_crit:.3f}\")\n",
        "print(f\"p-value: {p_value:.3f}\")\n",
        "\n",
        "# Крок 5. Висновок\n",
        "if t_stat > t_crit:\n",
        "    print(f\"Відхиляємо H0: середній час до покупки (time-to-purchase) більше {mu0} хв на рівні значущості {alpha}\")\n",
        "else:\n",
        "    print(\"Не відхиляємо H0: доказів недостатньо.\")"
      ],
      "metadata": {
        "id": "BcS4cm11QYpT",
        "colab": {
          "base_uri": "https://localhost:8080/"
        },
        "outputId": "f6d4f8ba-7db5-4c70-fd18-e3037bd72631"
      },
      "id": "BcS4cm11QYpT",
      "execution_count": null,
      "outputs": [
        {
          "output_type": "stream",
          "name": "stdout",
          "text": [
            "Вибіркове середнє: 132.286\n",
            "Вибіркове стандартне відхилення: 10.981\n",
            "t-статистика: 2.069\n",
            "Критичне значення (df=6): 1.440\n",
            "p-value: 0.042\n",
            "Відхиляємо H0: середній час до покупки (time-to-purchase) більше 123.7 хв на рівні значущості 0.1\n"
          ]
        }
      ]
    },
    {
      "cell_type": "markdown",
      "source": [
        "**Крок 5. Використовуючи лише 1 метод з бібліотеки scipy, який одразу вертає і статистику тесту, і р-значення.**"
      ],
      "metadata": {
        "id": "tHyEHpGETOqr"
      },
      "id": "tHyEHpGETOqr"
    },
    {
      "cell_type": "code",
      "source": [
        "res = stats.ttest_1samp(time_to_purchase, popmean=mu0, alternative=\"greater\")\n",
        "\n",
        "\n",
        "t_stat_by_scipy = round(res.statistic, 3)\n",
        "p_value_by_scipy = round(res.pvalue, 3)\n",
        "t_crit = round(stats.t.ppf(1-alpha, res.df), 3)\n",
        "\n",
        "print(f\"t-статистика = {t_stat_by_scipy:}, p-value = {p_value_by_scipy:}\")\n",
        "print(f\"alpha = {alpha:}\")\n",
        "print(f\"t_crit = {t_crit:}\")\n",
        "\n",
        "if p_value_by_scipy < alpha:\n",
        "    print(f\"Відхиляємо H0: середній час до покупки більше {mu0} хв на рівні значущості {alpha}\")\n",
        "else:\n",
        "    print(f\"Не відхиляємо H0: доказів недостатньо на рівні значущості {alpha}\")\n",
        "\n",
        "\n",
        "if t_stat > t_crit:\n",
        "    print(f\"Відхиляємо H0: середній час до покупки більше {mu0} хв на рівні значущості {alpha}\")\n",
        "else:\n",
        "    print(\"Не відхиляємо H0: доказів недостатньо\")\n"
      ],
      "metadata": {
        "colab": {
          "base_uri": "https://localhost:8080/"
        },
        "id": "QQpTjCoYTOSC",
        "outputId": "6e4d26d0-c0c6-424e-c40c-76e278bacc2c"
      },
      "id": "QQpTjCoYTOSC",
      "execution_count": null,
      "outputs": [
        {
          "output_type": "stream",
          "name": "stdout",
          "text": [
            "t-статистика = 2.069, p-value = 0.042\n",
            "alpha = 0.1\n",
            "t_crit = 1.44\n",
            "Відхиляємо H0: середній час до покупки більше 123.7 хв на рівні значущості 0.1\n",
            "Відхиляємо H0: середній час до покупки більше 123.7 хв на рівні значущості 0.1\n"
          ]
        }
      ]
    },
    {
      "cell_type": "markdown",
      "source": [
        "**Крок 6. Чи зміниться ваше рішення при зміні рівня значущості на  𝛼=0.05 .**"
      ],
      "metadata": {
        "id": "ppGxyNYaPzyR"
      },
      "id": "ppGxyNYaPzyR"
    },
    {
      "cell_type": "code",
      "source": [
        "alpha = 0.05\n",
        "\n",
        "if p_value_by_scipy < alpha:\n",
        "    print(f\"Відхиляємо H0: середній час до покупки більше {mu0} хв на рівні значущості {alpha}\")\n",
        "else:\n",
        "    print(f\"Не відхиляємо H0: доказів недостатньо на рівні значущості {alpha}\")\n"
      ],
      "metadata": {
        "colab": {
          "base_uri": "https://localhost:8080/"
        },
        "id": "SbQYJt1nP7b2",
        "outputId": "c770a8ec-fb39-4dd1-b442-1dd7642e3dcf"
      },
      "id": "SbQYJt1nP7b2",
      "execution_count": null,
      "outputs": [
        {
          "output_type": "stream",
          "name": "stdout",
          "text": [
            "Відхиляємо H0: середній час до покупки більше 123.7 хв на рівні значущості 0.05\n"
          ]
        }
      ]
    },
    {
      "cell_type": "markdown",
      "source": [
        "**Висновок:**\n",
        "Редизайн сайту подовжив час до покупки (середній час став більшим) на рівні значущості 𝛼= 0.1 , а також для 𝛼=0.05 рішення незмінне."
      ],
      "metadata": {
        "id": "TAuza2bAaxw4"
      },
      "id": "TAuza2bAaxw4"
    },
    {
      "cell_type": "markdown",
      "source": [
        "## **Завдання 2.**\n",
        "\n",
        "До спеціальної рекламної кампанії **23%** дорослих упізнавали логотип компанії. Після завершення кампанії відділ маркетингу провів опитування: з **1200** випадково відібраних дорослих **311** упізнали логотип.\n",
        "\n",
        "Перевірте на рівні значущості **3%** ($\\alpha=0.03$), чи дають ці дані достатні підстави стверджувати, що **тепер більше ніж 23%** дорослих упізнають логотип компанії. Для розвʼязку використовуйте бібліотеку `statsmodels`.\n",
        "\n",
        "Зробіть висновок, чи зросла впізнаваність логотипу.\n",
        "\n",
        "Додатково, обчисліть довірчий інтревал на заданому рівні значущості і проінтерпретуйте текстом - як він додатково пояснює прийняте нами рішення?"
      ],
      "metadata": {
        "id": "5govLcx8FPSl"
      },
      "id": "5govLcx8FPSl"
    },
    {
      "cell_type": "code",
      "source": [
        "import statsmodels.api as sm\n",
        "from statsmodels.stats.proportion import proportions_ztest, proportion_confint\n",
        "\n",
        "count = 311   # кількість \"успіхів\"\n",
        "nobs = 1200    # обсяг вибірки\n",
        "p0 = 0.23      # гіпотетична пропорція (H0)\n",
        "alpha = 0.03\n",
        "\n",
        "# z-тест для пропорції\n",
        "prop_stat, prop_pval = proportions_ztest(count, nobs, p0, alternative='larger')\n",
        "prop_confint = proportion_confint(count, nobs, alpha=0.03, method='normal')\n",
        "\n",
        "print(\"🔹 Тест для однієї пропорції\")\n",
        "print(f\"Z-статистика = {prop_stat:.3f}\")\n",
        "print(f\"p-value = {prop_pval:.4f}\")\n",
        "print(f\"97% довірчий інтервал: {prop_confint}\")"
      ],
      "metadata": {
        "id": "rcplRfotId51",
        "colab": {
          "base_uri": "https://localhost:8080/"
        },
        "outputId": "bf8fc6d0-4cdc-4554-faa6-45f1308cefe6"
      },
      "id": "rcplRfotId51",
      "execution_count": 20,
      "outputs": [
        {
          "output_type": "stream",
          "name": "stdout",
          "text": [
            "🔹 Тест для однієї пропорції\n",
            "Z-статистика = 2.306\n",
            "p-value = 0.0106\n",
            "97% довірчий інтервал: (0.23171700302179205, 0.28661633031154127)\n"
          ]
        }
      ]
    },
    {
      "cell_type": "code",
      "source": [
        "if prop_pval < alpha:\n",
        "    print(f\"Відхиляємо H0: Є достатні підстави стверджувати, що тепер більше ніж {p0*100}% дорослих упізнають логотип компанії.\")\n",
        "else:\n",
        "    print(f\"Не відхиляємо H0: доказів недостатньо на рівні значущості {alpha}.\")"
      ],
      "metadata": {
        "colab": {
          "base_uri": "https://localhost:8080/"
        },
        "id": "de5YeLdISSsZ",
        "outputId": "b3ff8a4f-5a3f-41aa-b4d1-06268ab83579"
      },
      "id": "de5YeLdISSsZ",
      "execution_count": 21,
      "outputs": [
        {
          "output_type": "stream",
          "name": "stdout",
          "text": [
            "Відхиляємо H0: Є достатні підстави стверджувати, що тепер більше ніж 23.0% дорослих упізнають логотип компанії.\n"
          ]
        }
      ]
    },
    {
      "cell_type": "markdown",
      "metadata": {
        "id": "63f8ed0c"
      },
      "source": [
        "**Висновок:**\n",
        "\n",
        "Оскільки p-значення (0.0106) менше за рівень значущості $\\alpha=0.03$, ми відхиляємо нульову гіпотезу. Є достатні підстави стверджувати, що після рекламної кампанії більше ніж 23% дорослих упізнають логотип компанії.\n",
        "\n",
        "Довірчий інтервал (0.232, 0.287) показує, що справжня частка дорослих, які впізнають логотип, з імовірністю 97% знаходиться в цьому діапазоні. Оскільки нижня межа (23.6%) перевищує 23%, це узгоджується з результатом тесту й додатково підтверджує, що впізнаваність логотипу справді зросла."
      ],
      "id": "63f8ed0c"
    }
  ],
  "metadata": {
    "hide_input": false,
    "kernelspec": {
      "display_name": "Python 3 (ipykernel)",
      "language": "python",
      "name": "python3"
    },
    "language_info": {
      "codemirror_mode": {
        "name": "ipython",
        "version": 3
      },
      "file_extension": ".py",
      "mimetype": "text/x-python",
      "name": "python",
      "nbconvert_exporter": "python",
      "pygments_lexer": "ipython3",
      "version": "3.11.3"
    },
    "toc": {
      "base_numbering": 1,
      "nav_menu": {},
      "number_sections": true,
      "sideBar": true,
      "skip_h1_title": false,
      "title_cell": "Table of Contents",
      "title_sidebar": "Contents",
      "toc_cell": false,
      "toc_position": {},
      "toc_section_display": true,
      "toc_window_display": false
    },
    "varInspector": {
      "cols": {
        "lenName": 16,
        "lenType": 16,
        "lenVar": 40
      },
      "kernels_config": {
        "python": {
          "delete_cmd_postfix": "",
          "delete_cmd_prefix": "del ",
          "library": "var_list.py",
          "varRefreshCmd": "print(var_dic_list())"
        },
        "r": {
          "delete_cmd_postfix": ") ",
          "delete_cmd_prefix": "rm(",
          "library": "var_list.r",
          "varRefreshCmd": "cat(var_dic_list()) "
        }
      },
      "types_to_exclude": [
        "module",
        "function",
        "builtin_function_or_method",
        "instance",
        "_Feature"
      ],
      "window_display": false
    },
    "colab": {
      "provenance": [],
      "include_colab_link": true
    }
  },
  "nbformat": 4,
  "nbformat_minor": 5
}