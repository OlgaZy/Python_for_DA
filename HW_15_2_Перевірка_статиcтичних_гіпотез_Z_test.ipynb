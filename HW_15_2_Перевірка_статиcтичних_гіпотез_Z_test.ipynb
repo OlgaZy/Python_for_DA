{
  "cells": [
    {
      "cell_type": "markdown",
      "metadata": {
        "id": "view-in-github",
        "colab_type": "text"
      },
      "source": [
        "<a href=\"https://colab.research.google.com/github/OlgaZy/Python_for_DA/blob/main/HW_15_2_%D0%9F%D0%B5%D1%80%D0%B5%D0%B2%D1%96%D1%80%D0%BA%D0%B0_%D1%81%D1%82%D0%B0%D1%82%D0%B8c%D1%82%D0%B8%D1%87%D0%BD%D0%B8%D1%85_%D0%B3%D1%96%D0%BF%D0%BE%D1%82%D0%B5%D0%B7_Z_test.ipynb\" target=\"_parent\"><img src=\"https://colab.research.google.com/assets/colab-badge.svg\" alt=\"Open In Colab\"/></a>"
      ]
    },
    {
      "cell_type": "markdown",
      "id": "e152f6d6",
      "metadata": {
        "ExecuteTime": {
          "end_time": "2022-12-10T14:29:24.703416Z",
          "start_time": "2022-12-10T14:29:24.688485Z"
        },
        "id": "e152f6d6"
      },
      "source": [
        "#Перевірка статиcтичних гіпотез. Z-test.\n",
        "\n"
      ]
    },
    {
      "cell_type": "markdown",
      "id": "cd404683",
      "metadata": {
        "id": "cd404683"
      },
      "source": [
        "0. Зчитайте дані з `data.csv` у змінну data, яка має тип pandas.DataFrame. Ми будемо далі працювати з цією змінною."
      ]
    },
    {
      "cell_type": "code",
      "execution_count": 2,
      "id": "b20b6ba2",
      "metadata": {
        "id": "b20b6ba2"
      },
      "outputs": [],
      "source": [
        "import numpy as np\n",
        "import pandas as pd\n",
        "import matplotlib.pyplot as plt\n",
        "import seaborn as sns\n",
        "from scipy import stats\n"
      ]
    },
    {
      "cell_type": "code",
      "source": [
        "from google.colab import drive\n",
        "drive.mount('/content/drive')"
      ],
      "metadata": {
        "id": "8TqFuvqVGyNb",
        "colab": {
          "base_uri": "https://localhost:8080/"
        },
        "outputId": "24c281ea-c601-48f1-b0ad-6d04073b2e50"
      },
      "id": "8TqFuvqVGyNb",
      "execution_count": 3,
      "outputs": [
        {
          "output_type": "stream",
          "name": "stdout",
          "text": [
            "Mounted at /content/drive\n"
          ]
        }
      ]
    },
    {
      "cell_type": "code",
      "source": [
        "# Налаштування для візуалізації\n",
        "plt.rcParams['figure.figsize'] = (12, 7)\n",
        "plt.rcParams['font.size'] = 12"
      ],
      "metadata": {
        "id": "FQR41bOS8TvV"
      },
      "id": "FQR41bOS8TvV",
      "execution_count": 4,
      "outputs": []
    },
    {
      "cell_type": "code",
      "source": [
        "data = pd.read_csv('/content/drive/MyDrive/DA_in_IT/Data/data.csv')\n",
        "data"
      ],
      "metadata": {
        "colab": {
          "base_uri": "https://localhost:8080/",
          "height": 424
        },
        "id": "gvErq9d7XlMB",
        "outputId": "126bbd40-3400-4399-d534-3edccdcf80f4"
      },
      "id": "gvErq9d7XlMB",
      "execution_count": 12,
      "outputs": [
        {
          "output_type": "execute_result",
          "data": {
            "text/plain": [
              "    Unnamed: 0       data\n",
              "0            0  17.499453\n",
              "1            1  19.662399\n",
              "2            2   7.182823\n",
              "3            3  29.841625\n",
              "4            4   9.239386\n",
              "..         ...        ...\n",
              "95          95  26.244944\n",
              "96          96  22.282832\n",
              "97          97  18.697188\n",
              "98          98  27.041189\n",
              "99          99   5.938381\n",
              "\n",
              "[100 rows x 2 columns]"
            ],
            "text/html": [
              "\n",
              "  <div id=\"df-dd677df7-266b-4149-87b6-11c3c712ebee\" class=\"colab-df-container\">\n",
              "    <div>\n",
              "<style scoped>\n",
              "    .dataframe tbody tr th:only-of-type {\n",
              "        vertical-align: middle;\n",
              "    }\n",
              "\n",
              "    .dataframe tbody tr th {\n",
              "        vertical-align: top;\n",
              "    }\n",
              "\n",
              "    .dataframe thead th {\n",
              "        text-align: right;\n",
              "    }\n",
              "</style>\n",
              "<table border=\"1\" class=\"dataframe\">\n",
              "  <thead>\n",
              "    <tr style=\"text-align: right;\">\n",
              "      <th></th>\n",
              "      <th>Unnamed: 0</th>\n",
              "      <th>data</th>\n",
              "    </tr>\n",
              "  </thead>\n",
              "  <tbody>\n",
              "    <tr>\n",
              "      <th>0</th>\n",
              "      <td>0</td>\n",
              "      <td>17.499453</td>\n",
              "    </tr>\n",
              "    <tr>\n",
              "      <th>1</th>\n",
              "      <td>1</td>\n",
              "      <td>19.662399</td>\n",
              "    </tr>\n",
              "    <tr>\n",
              "      <th>2</th>\n",
              "      <td>2</td>\n",
              "      <td>7.182823</td>\n",
              "    </tr>\n",
              "    <tr>\n",
              "      <th>3</th>\n",
              "      <td>3</td>\n",
              "      <td>29.841625</td>\n",
              "    </tr>\n",
              "    <tr>\n",
              "      <th>4</th>\n",
              "      <td>4</td>\n",
              "      <td>9.239386</td>\n",
              "    </tr>\n",
              "    <tr>\n",
              "      <th>...</th>\n",
              "      <td>...</td>\n",
              "      <td>...</td>\n",
              "    </tr>\n",
              "    <tr>\n",
              "      <th>95</th>\n",
              "      <td>95</td>\n",
              "      <td>26.244944</td>\n",
              "    </tr>\n",
              "    <tr>\n",
              "      <th>96</th>\n",
              "      <td>96</td>\n",
              "      <td>22.282832</td>\n",
              "    </tr>\n",
              "    <tr>\n",
              "      <th>97</th>\n",
              "      <td>97</td>\n",
              "      <td>18.697188</td>\n",
              "    </tr>\n",
              "    <tr>\n",
              "      <th>98</th>\n",
              "      <td>98</td>\n",
              "      <td>27.041189</td>\n",
              "    </tr>\n",
              "    <tr>\n",
              "      <th>99</th>\n",
              "      <td>99</td>\n",
              "      <td>5.938381</td>\n",
              "    </tr>\n",
              "  </tbody>\n",
              "</table>\n",
              "<p>100 rows × 2 columns</p>\n",
              "</div>\n",
              "    <div class=\"colab-df-buttons\">\n",
              "\n",
              "  <div class=\"colab-df-container\">\n",
              "    <button class=\"colab-df-convert\" onclick=\"convertToInteractive('df-dd677df7-266b-4149-87b6-11c3c712ebee')\"\n",
              "            title=\"Convert this dataframe to an interactive table.\"\n",
              "            style=\"display:none;\">\n",
              "\n",
              "  <svg xmlns=\"http://www.w3.org/2000/svg\" height=\"24px\" viewBox=\"0 -960 960 960\">\n",
              "    <path d=\"M120-120v-720h720v720H120Zm60-500h600v-160H180v160Zm220 220h160v-160H400v160Zm0 220h160v-160H400v160ZM180-400h160v-160H180v160Zm440 0h160v-160H620v160ZM180-180h160v-160H180v160Zm440 0h160v-160H620v160Z\"/>\n",
              "  </svg>\n",
              "    </button>\n",
              "\n",
              "  <style>\n",
              "    .colab-df-container {\n",
              "      display:flex;\n",
              "      gap: 12px;\n",
              "    }\n",
              "\n",
              "    .colab-df-convert {\n",
              "      background-color: #E8F0FE;\n",
              "      border: none;\n",
              "      border-radius: 50%;\n",
              "      cursor: pointer;\n",
              "      display: none;\n",
              "      fill: #1967D2;\n",
              "      height: 32px;\n",
              "      padding: 0 0 0 0;\n",
              "      width: 32px;\n",
              "    }\n",
              "\n",
              "    .colab-df-convert:hover {\n",
              "      background-color: #E2EBFA;\n",
              "      box-shadow: 0px 1px 2px rgba(60, 64, 67, 0.3), 0px 1px 3px 1px rgba(60, 64, 67, 0.15);\n",
              "      fill: #174EA6;\n",
              "    }\n",
              "\n",
              "    .colab-df-buttons div {\n",
              "      margin-bottom: 4px;\n",
              "    }\n",
              "\n",
              "    [theme=dark] .colab-df-convert {\n",
              "      background-color: #3B4455;\n",
              "      fill: #D2E3FC;\n",
              "    }\n",
              "\n",
              "    [theme=dark] .colab-df-convert:hover {\n",
              "      background-color: #434B5C;\n",
              "      box-shadow: 0px 1px 3px 1px rgba(0, 0, 0, 0.15);\n",
              "      filter: drop-shadow(0px 1px 2px rgba(0, 0, 0, 0.3));\n",
              "      fill: #FFFFFF;\n",
              "    }\n",
              "  </style>\n",
              "\n",
              "    <script>\n",
              "      const buttonEl =\n",
              "        document.querySelector('#df-dd677df7-266b-4149-87b6-11c3c712ebee button.colab-df-convert');\n",
              "      buttonEl.style.display =\n",
              "        google.colab.kernel.accessAllowed ? 'block' : 'none';\n",
              "\n",
              "      async function convertToInteractive(key) {\n",
              "        const element = document.querySelector('#df-dd677df7-266b-4149-87b6-11c3c712ebee');\n",
              "        const dataTable =\n",
              "          await google.colab.kernel.invokeFunction('convertToInteractive',\n",
              "                                                    [key], {});\n",
              "        if (!dataTable) return;\n",
              "\n",
              "        const docLinkHtml = 'Like what you see? Visit the ' +\n",
              "          '<a target=\"_blank\" href=https://colab.research.google.com/notebooks/data_table.ipynb>data table notebook</a>'\n",
              "          + ' to learn more about interactive tables.';\n",
              "        element.innerHTML = '';\n",
              "        dataTable['output_type'] = 'display_data';\n",
              "        await google.colab.output.renderOutput(dataTable, element);\n",
              "        const docLink = document.createElement('div');\n",
              "        docLink.innerHTML = docLinkHtml;\n",
              "        element.appendChild(docLink);\n",
              "      }\n",
              "    </script>\n",
              "  </div>\n",
              "\n",
              "\n",
              "    <div id=\"df-0bbddc74-a2be-4eab-aaaf-24d62f819309\">\n",
              "      <button class=\"colab-df-quickchart\" onclick=\"quickchart('df-0bbddc74-a2be-4eab-aaaf-24d62f819309')\"\n",
              "                title=\"Suggest charts\"\n",
              "                style=\"display:none;\">\n",
              "\n",
              "<svg xmlns=\"http://www.w3.org/2000/svg\" height=\"24px\"viewBox=\"0 0 24 24\"\n",
              "     width=\"24px\">\n",
              "    <g>\n",
              "        <path d=\"M19 3H5c-1.1 0-2 .9-2 2v14c0 1.1.9 2 2 2h14c1.1 0 2-.9 2-2V5c0-1.1-.9-2-2-2zM9 17H7v-7h2v7zm4 0h-2V7h2v10zm4 0h-2v-4h2v4z\"/>\n",
              "    </g>\n",
              "</svg>\n",
              "      </button>\n",
              "\n",
              "<style>\n",
              "  .colab-df-quickchart {\n",
              "      --bg-color: #E8F0FE;\n",
              "      --fill-color: #1967D2;\n",
              "      --hover-bg-color: #E2EBFA;\n",
              "      --hover-fill-color: #174EA6;\n",
              "      --disabled-fill-color: #AAA;\n",
              "      --disabled-bg-color: #DDD;\n",
              "  }\n",
              "\n",
              "  [theme=dark] .colab-df-quickchart {\n",
              "      --bg-color: #3B4455;\n",
              "      --fill-color: #D2E3FC;\n",
              "      --hover-bg-color: #434B5C;\n",
              "      --hover-fill-color: #FFFFFF;\n",
              "      --disabled-bg-color: #3B4455;\n",
              "      --disabled-fill-color: #666;\n",
              "  }\n",
              "\n",
              "  .colab-df-quickchart {\n",
              "    background-color: var(--bg-color);\n",
              "    border: none;\n",
              "    border-radius: 50%;\n",
              "    cursor: pointer;\n",
              "    display: none;\n",
              "    fill: var(--fill-color);\n",
              "    height: 32px;\n",
              "    padding: 0;\n",
              "    width: 32px;\n",
              "  }\n",
              "\n",
              "  .colab-df-quickchart:hover {\n",
              "    background-color: var(--hover-bg-color);\n",
              "    box-shadow: 0 1px 2px rgba(60, 64, 67, 0.3), 0 1px 3px 1px rgba(60, 64, 67, 0.15);\n",
              "    fill: var(--button-hover-fill-color);\n",
              "  }\n",
              "\n",
              "  .colab-df-quickchart-complete:disabled,\n",
              "  .colab-df-quickchart-complete:disabled:hover {\n",
              "    background-color: var(--disabled-bg-color);\n",
              "    fill: var(--disabled-fill-color);\n",
              "    box-shadow: none;\n",
              "  }\n",
              "\n",
              "  .colab-df-spinner {\n",
              "    border: 2px solid var(--fill-color);\n",
              "    border-color: transparent;\n",
              "    border-bottom-color: var(--fill-color);\n",
              "    animation:\n",
              "      spin 1s steps(1) infinite;\n",
              "  }\n",
              "\n",
              "  @keyframes spin {\n",
              "    0% {\n",
              "      border-color: transparent;\n",
              "      border-bottom-color: var(--fill-color);\n",
              "      border-left-color: var(--fill-color);\n",
              "    }\n",
              "    20% {\n",
              "      border-color: transparent;\n",
              "      border-left-color: var(--fill-color);\n",
              "      border-top-color: var(--fill-color);\n",
              "    }\n",
              "    30% {\n",
              "      border-color: transparent;\n",
              "      border-left-color: var(--fill-color);\n",
              "      border-top-color: var(--fill-color);\n",
              "      border-right-color: var(--fill-color);\n",
              "    }\n",
              "    40% {\n",
              "      border-color: transparent;\n",
              "      border-right-color: var(--fill-color);\n",
              "      border-top-color: var(--fill-color);\n",
              "    }\n",
              "    60% {\n",
              "      border-color: transparent;\n",
              "      border-right-color: var(--fill-color);\n",
              "    }\n",
              "    80% {\n",
              "      border-color: transparent;\n",
              "      border-right-color: var(--fill-color);\n",
              "      border-bottom-color: var(--fill-color);\n",
              "    }\n",
              "    90% {\n",
              "      border-color: transparent;\n",
              "      border-bottom-color: var(--fill-color);\n",
              "    }\n",
              "  }\n",
              "</style>\n",
              "\n",
              "      <script>\n",
              "        async function quickchart(key) {\n",
              "          const quickchartButtonEl =\n",
              "            document.querySelector('#' + key + ' button');\n",
              "          quickchartButtonEl.disabled = true;  // To prevent multiple clicks.\n",
              "          quickchartButtonEl.classList.add('colab-df-spinner');\n",
              "          try {\n",
              "            const charts = await google.colab.kernel.invokeFunction(\n",
              "                'suggestCharts', [key], {});\n",
              "          } catch (error) {\n",
              "            console.error('Error during call to suggestCharts:', error);\n",
              "          }\n",
              "          quickchartButtonEl.classList.remove('colab-df-spinner');\n",
              "          quickchartButtonEl.classList.add('colab-df-quickchart-complete');\n",
              "        }\n",
              "        (() => {\n",
              "          let quickchartButtonEl =\n",
              "            document.querySelector('#df-0bbddc74-a2be-4eab-aaaf-24d62f819309 button');\n",
              "          quickchartButtonEl.style.display =\n",
              "            google.colab.kernel.accessAllowed ? 'block' : 'none';\n",
              "        })();\n",
              "      </script>\n",
              "    </div>\n",
              "    </div>\n",
              "  </div>\n"
            ],
            "application/vnd.google.colaboratory.intrinsic+json": {
              "type": "dataframe",
              "variable_name": "data",
              "summary": "{\n  \"name\": \"data\",\n  \"rows\": 100,\n  \"fields\": [\n    {\n      \"column\": \"Unnamed: 0\",\n      \"properties\": {\n        \"dtype\": \"number\",\n        \"std\": 29,\n        \"min\": 0,\n        \"max\": 99,\n        \"num_unique_values\": 100,\n        \"samples\": [\n          83,\n          53,\n          70\n        ],\n        \"semantic_type\": \"\",\n        \"description\": \"\"\n      }\n    },\n    {\n      \"column\": \"data\",\n      \"properties\": {\n        \"dtype\": \"number\",\n        \"std\": 6.25356123240434,\n        \"min\": 4.043303261699069,\n        \"max\": 33.75324807688975,\n        \"num_unique_values\": 100,\n        \"samples\": [\n          27.489277523582203,\n          19.55317542263612,\n          16.080498393247787\n        ],\n        \"semantic_type\": \"\",\n        \"description\": \"\"\n      }\n    }\n  ]\n}"
            }
          },
          "metadata": {},
          "execution_count": 12
        }
      ]
    },
    {
      "cell_type": "markdown",
      "id": "3d06cbbf",
      "metadata": {
        "id": "3d06cbbf"
      },
      "source": [
        "Запустіть код нижче. Для коректної робити всіх подальших методів дані мають бути у вигляді одновимірного `numpy.ndarray` вектора та мати розмірність (100,). Така розмірність означає, що дані - одновимірні (колонка), якщо б розмірність була (100, 1), то дані сприймаються методами як двовимірні (таблиця), хоча для нас виглядати можуть так само."
      ]
    },
    {
      "cell_type": "code",
      "execution_count": 13,
      "id": "cce1632b",
      "metadata": {
        "id": "cce1632b",
        "colab": {
          "base_uri": "https://localhost:8080/"
        },
        "outputId": "b08c62e9-4e27-4e9d-b922-30710bb85873"
      },
      "outputs": [
        {
          "output_type": "execute_result",
          "data": {
            "text/plain": [
              "(100,)"
            ]
          },
          "metadata": {},
          "execution_count": 13
        }
      ],
      "source": [
        "data = data.data.values\n",
        "data.shape"
      ]
    },
    {
      "cell_type": "code",
      "source": [
        "data.size"
      ],
      "metadata": {
        "colab": {
          "base_uri": "https://localhost:8080/"
        },
        "id": "7SUid_KTZdYd",
        "outputId": "e15ad523-6d1d-4f37-d413-9b82c39f6845"
      },
      "id": "7SUid_KTZdYd",
      "execution_count": 14,
      "outputs": [
        {
          "output_type": "execute_result",
          "data": {
            "text/plain": [
              "100"
            ]
          },
          "metadata": {},
          "execution_count": 14
        }
      ]
    },
    {
      "cell_type": "markdown",
      "id": "abdcef5d",
      "metadata": {
        "id": "abdcef5d"
      },
      "source": [
        "**Завдання 1**. Зчитані дані - це сума покупок в доларах наших покупців на сайті протягом липня 2025 року.\n",
        "\n",
        "До цього місяця, ми мали продажі в середньому на чек $20.\n",
        "\n",
        "Необхідно зʼясувати, чи вийшло у нас статистично значущо **підвищити** середній чек за липень 2025?\n",
        "\n",
        "Аби дати відповідь - ми проведемо z-test на рівні значущості $\\alpha=0.05$ двома способами. В цьому завданні ми будемо виконувати обчислення \"вручну\" з використанням бібліотек numpy та scipy.stats подібно до прикладу в лекції. Для цього виконайте наступні 7 кроків. Правильне виконання кожного з кроків оцінюється в 1 бал.\n",
        "\n",
        "1. Запишіть параметри задачі у змінні Python:\n",
        "    - `sample_mean` - $\\bar{x}$, середнє значення в вибірці\n",
        "    - `population_mean` - $\\mu_0$, середнє значення в популяції (тобто те, з яким ми порівнюємо середнє вибіркове значення)\n",
        "    - `population_std` - $\\sigma$, вибіркове стандартне відхилення, яке ми вважаємо, що є рівним ст. відх. популяції, адже маємо достатньо велику вибірку.\n",
        "    - `sample_size` - $n$, розмір вибірки\n",
        "    - `alpha` - $\\alpha$ рівень значущості\n",
        "    \n",
        "    **Увага!** Для обчислення стандартного відхилення маємо скористатись функцією `np.std(your_dataframe, ddof=1)`. Чому так - розбираємо в лекції про t-test.\n",
        "\n",
        "\n",
        "2. Визначте для цієї задачі:\n",
        "    - якою є гіпотеза $H_0$\n",
        "    - якою є альтернативна гіпотеза $H_a$\n",
        "    - з яким типом тесту ми маємо справу - лівосторонній, правосторонній чи двосторонній.\n",
        "\n",
        "3. Обчисліть стандартну помилку SE.\n",
        "4. Розрахуйте z-статистику.\n",
        "5. Знайдіть критичне z-значення з допомогою бібліотеки stats.\n",
        "6. Обчисліть p-value з допомогою бібліотеки stats.\n",
        "7. Прийміть рішення, чи відхиляєте ви гіпотезу $H_0$. Для прийняття рішення зробіть і порівняння z-статистики з критичним значенням, і проаналізуйте p-value."
      ]
    },
    {
      "cell_type": "markdown",
      "source": [
        "## Частина 1: Розрахунок вручну"
      ],
      "metadata": {
        "id": "wUrLcCalPgdD"
      },
      "id": "wUrLcCalPgdD"
    },
    {
      "cell_type": "markdown",
      "source": [
        "**Крок 1: Визначаємо параметри задачі**"
      ],
      "metadata": {
        "id": "tZIPj0a7Pze5"
      },
      "id": "tZIPj0a7Pze5"
    },
    {
      "cell_type": "code",
      "source": [
        "# 1. Задаємо всі відомі параметри\n",
        "sample_mean = round(np.mean(data), 2)      # x̄ - середнє у вибірці\n",
        "print(sample_mean)\n",
        "population_mean = 20    # μ₀ - середнє в популяції (те, з чим порівнюємо)\n",
        "print(population_mean)\n",
        "population_std = np.std(data, ddof=1)      # σ - стандартне відхилення в популяції\n",
        "print(population_std)\n",
        "sample_size = data.size         # n - розмір вибірки\n",
        "print(sample_size)\n",
        "alpha = 0.05            # α - рівень значущості (ймовірність помилки I роду)\n",
        "print(alpha)"
      ],
      "metadata": {
        "id": "NX2XezWLdf4t",
        "colab": {
          "base_uri": "https://localhost:8080/"
        },
        "outputId": "3ee50de5-983b-4e78-a788-5979b2959035"
      },
      "id": "NX2XezWLdf4t",
      "execution_count": 23,
      "outputs": [
        {
          "output_type": "stream",
          "name": "stdout",
          "text": [
            "19.38\n",
            "20\n",
            "6.25356123240434\n",
            "100\n",
            "0.05\n"
          ]
        }
      ]
    },
    {
      "cell_type": "markdown",
      "source": [
        "**Крок 2: Формулюємо гіпотези**\n",
        "\n",
        "  H₀: μ = 20 (продажі в середньому на чек $20)\n",
        "\n",
        "  H₁: μ > 20 (продажі в липні в середньому стали більше середнього чеку)\n",
        "\n",
        "Тип тесту: правосторонній (one-tailed)"
      ],
      "metadata": {
        "id": "dPUeWi0TETH6"
      },
      "id": "dPUeWi0TETH6"
    },
    {
      "cell_type": "markdown",
      "source": [
        "**Крок 3: Обчислюємо стандартну помилку**"
      ],
      "metadata": {
        "id": "pMKWAb19F69m"
      },
      "id": "pMKWAb19F69m"
    },
    {
      "cell_type": "code",
      "source": [
        "# Формула: SE = σ / √n\n",
        "standard_error = population_std / np.sqrt(sample_size)\n",
        "\n",
        "print(\"=\" * 60)\n",
        "print(\"ОБЧИСЛЕННЯ СТАНДАРТНОЇ ПОМИЛКИ:\")\n",
        "print(\"=\" * 60)\n",
        "print(\"Формула: SE = σ / √n\")\n",
        "print(f\"SE = {population_std} / √{sample_size}\")\n",
        "print(f\"SE = {population_std} / {np.sqrt(sample_size):.3f}\")\n",
        "print(f\"SE = {standard_error:.3f}\")\n",
        "print()\n",
        "print(\"Інтерпретація: В середньому, вибіркове середнє відхиляється\")\n",
        "print(f\"від справжнього середнього на ±{standard_error:.3f}\")"
      ],
      "metadata": {
        "colab": {
          "base_uri": "https://localhost:8080/"
        },
        "id": "KbNqxwkxF0Ty",
        "outputId": "2f766ee7-6d94-4330-cf6c-a057830c591a"
      },
      "id": "KbNqxwkxF0Ty",
      "execution_count": 27,
      "outputs": [
        {
          "output_type": "stream",
          "name": "stdout",
          "text": [
            "============================================================\n",
            "ОБЧИСЛЕННЯ СТАНДАРТНОЇ ПОМИЛКИ:\n",
            "============================================================\n",
            "Формула: SE = σ / √n\n",
            "SE = 6.25356123240434 / √100\n",
            "SE = 6.25356123240434 / 10.000\n",
            "SE = 0.625\n",
            "\n",
            "Інтерпретація: В середньому, вибіркове середнє відхиляється\n",
            "від справжнього середнього на ±0.625\n"
          ]
        }
      ]
    },
    {
      "cell_type": "markdown",
      "source": [
        "**Крок 4: Розраховуємо z-статистику**"
      ],
      "metadata": {
        "id": "VqJtQPJTGemn"
      },
      "id": "VqJtQPJTGemn"
    },
    {
      "cell_type": "code",
      "source": [
        "# Формула: z = (x̄ - μ₀) / SE\n",
        "z_statistic = (sample_mean - population_mean) / standard_error\n",
        "\n",
        "print(\"=\" * 60)\n",
        "print(\"РОЗРАХУНОК Z-СТАТИСТИКИ:\")\n",
        "print(\"=\" * 60)\n",
        "print(\"Формула: z = (x̄ - μ₀) / SE\")\n",
        "print(f\"z = ({sample_mean} - {population_mean}) / {standard_error:.3f}\")\n",
        "print(f\"z = {sample_mean - population_mean} / {standard_error:.3f}\")\n",
        "print(f\"z = {z_statistic:.3f}\")\n",
        "print()\n",
        "print(\"Інтерпретація:\")\n",
        "print(f\"Наше вибіркове середнє відхиляється на {z_statistic:.3f} стандартних\")\n",
        "print(\"помилок від гіпотетичного середнього популяції.\")\n",
        "print()\n",
        "# if z_statistic > 0.99:\n",
        "#     print(\"Це досить велике відхилення. (більше 2 стандартних помилок)\")\n",
        "# elif z_statistic > 1:\n",
        "#     print(\"Це помірне відхилення (між 1 та 2 стандартними помилками)\")\n",
        "# else:\n",
        "#     print(\"Це невелике відхилення (менше 1 стандартної помилки)\")"
      ],
      "metadata": {
        "colab": {
          "base_uri": "https://localhost:8080/"
        },
        "id": "l49mXIkYGq6m",
        "outputId": "7f687a22-dcf7-44db-f60f-b701350f9752"
      },
      "id": "l49mXIkYGq6m",
      "execution_count": 29,
      "outputs": [
        {
          "output_type": "stream",
          "name": "stdout",
          "text": [
            "============================================================\n",
            "РОЗРАХУНОК Z-СТАТИСТИКИ:\n",
            "============================================================\n",
            "Формула: z = (x̄ - μ₀) / SE\n",
            "z = (19.38 - 20) / 0.625\n",
            "z = -0.620000000000001 / 0.625\n",
            "z = -0.991\n",
            "\n",
            "Інтерпретація:\n",
            "Наше вибіркове середнє відхиляється на -0.991 стандартних\n",
            "помилок від гіпотетичного середнього популяції.\n",
            "\n"
          ]
        }
      ]
    },
    {
      "cell_type": "markdown",
      "source": [
        "**Крок 5: Знаходимо критичне значення**"
      ],
      "metadata": {
        "id": "HaN44SJmJekj"
      },
      "id": "HaN44SJmJekj"
    },
    {
      "cell_type": "code",
      "source": [
        "# Для правостороннього тесту з α = 0.05\n",
        "z_critical = stats.norm.ppf(1 - alpha)\n",
        "\n",
        "print(\"=\" * 60)\n",
        "print(\"КРИТИЧНЕ ЗНАЧЕННЯ:\")\n",
        "print(\"=\" * 60)\n",
        "print(f\"Для рівня значущості α = {alpha} (правосторонній тест)\")\n",
        "print(f\"Критичне z-значення = {z_critical:.3f}\")\n",
        "print()\n",
        "print(\"Що це означає?\")\n",
        "print(f\"Якщо z-статистика > {z_critical:.3f}, то результат настільки\")\n",
        "print(\"незвичайний, що ми не віримо у випадковість за гіпотезою Н0.\")\n",
        "print(f\"Ймовірність отримати z > {z_critical:.3f} випадково = {alpha*100}%\")"
      ],
      "metadata": {
        "colab": {
          "base_uri": "https://localhost:8080/"
        },
        "id": "OQcA4VNkJbIY",
        "outputId": "e2198698-e2c1-40b9-e434-6e219274b82a"
      },
      "id": "OQcA4VNkJbIY",
      "execution_count": 30,
      "outputs": [
        {
          "output_type": "stream",
          "name": "stdout",
          "text": [
            "============================================================\n",
            "КРИТИЧНЕ ЗНАЧЕННЯ:\n",
            "============================================================\n",
            "Для рівня значущості α = 0.05 (правосторонній тест)\n",
            "Критичне z-значення = 1.645\n",
            "\n",
            "Що це означає?\n",
            "Якщо z-статистика > 1.645, то результат настільки\n",
            "незвичайний, що ми не віримо у випадковість за гіпотезою Н0.\n",
            "Ймовірність отримати z > 1.645 випадково = 5.0%\n"
          ]
        }
      ]
    },
    {
      "cell_type": "markdown",
      "source": [
        "**Крок 6: Обчислюємо p-value**"
      ],
      "metadata": {
        "id": "9Gjv777qKLRU"
      },
      "id": "9Gjv777qKLRU"
    },
    {
      "cell_type": "code",
      "source": [
        "# Для правостороннього тесту: p-value = P(Z > z_statistic)\n",
        "p_value = 1 - stats.norm.cdf(z_statistic)\n",
        "\n",
        "print(\"=\" * 60)\n",
        "print(\"P-VALUE:\")\n",
        "print(\"=\" * 60)\n",
        "print(f\"p-value = {p_value:.6f}\")\n",
        "print()\n",
        "print(\"Що це означає?\")\n",
        "print(f\"Якщо H₀ правильна, то ймовірність\")\n",
        "print(f\"випадково отримати середній чек за липень ≥ {sample_mean} становить {p_value:.6f}\")\n",
        "print(f\"або приблизно {p_value*100:.4f}%\")\n",
        "print()\n",
        "if p_value < 0.001:\n",
        "    print(\"Це НАДЗВИЧАЙНО малоймовірно! (менше 0.1%)\")\n",
        "elif p_value < 0.01:\n",
        "    print(\"Це дуже малоймовірно! (менше 1%)\")\n",
        "elif p_value < 0.05:\n",
        "    print(\"Це малоймовірно! (менше 5%)\")\n",
        "else:\n",
        "    print(\"Це цілком можливо випадково\")"
      ],
      "metadata": {
        "colab": {
          "base_uri": "https://localhost:8080/"
        },
        "id": "g-fyt9iKKMc6",
        "outputId": "0ef2c427-a752-4985-81d7-3dc6563da950"
      },
      "id": "g-fyt9iKKMc6",
      "execution_count": 32,
      "outputs": [
        {
          "output_type": "stream",
          "name": "stdout",
          "text": [
            "============================================================\n",
            "P-VALUE:\n",
            "============================================================\n",
            "p-value = 0.839263\n",
            "\n",
            "Що це означає?\n",
            "Якщо H₀ правильна, то ймовірність\n",
            "випадково отримати середній чек за липень ≥ 19.38 становить 0.839263\n",
            "або приблизно 83.9263%\n",
            "\n",
            "Це цілком можливо випадково\n"
          ]
        }
      ]
    },
    {
      "cell_type": "markdown",
      "source": [
        "**Крок 7: Приймаємо рішення**\n",
        "\n",
        "**Метод 1: Порівняння z-статистики з критичним значенням**"
      ],
      "metadata": {
        "id": "Lt37gBPMLw3X"
      },
      "id": "Lt37gBPMLw3X"
    },
    {
      "cell_type": "code",
      "source": [
        "print(\"=\" * 60)\n",
        "print(\"МЕТОД 1: Порівняння z-статистики з критичним значенням\")\n",
        "print(\"=\" * 60)\n",
        "print(f\"z-статистика = {z_statistic:.3f}\")\n",
        "print(f\"Критичне значення = {z_critical:.3f}\")\n",
        "print(f\"Порівняння: {z_statistic:.3f} {'>' if z_statistic > z_critical else '≤'} {z_critical:.3f}\")\n",
        "\n",
        "if z_statistic > z_critical:\n",
        "    print(\"Висновок: z-статистика ПЕРЕВИЩУЄ критичне значення\")\n",
        "    decision1 = \"ВІДХИЛЯЄМО H₀\"\n",
        "else:\n",
        "    print(\"Висновок: z-статистика НЕ перевищує критичне значення\")\n",
        "    decision1 = \"НЕ ВІДХИЛЯЄМО H₀\"\n",
        "\n",
        "print(f\"Рішення: {decision1}\")"
      ],
      "metadata": {
        "colab": {
          "base_uri": "https://localhost:8080/"
        },
        "id": "7XrX57BmL80Z",
        "outputId": "4d4e5ec1-a45d-4e79-f863-2f235c29cc3b"
      },
      "id": "7XrX57BmL80Z",
      "execution_count": 33,
      "outputs": [
        {
          "output_type": "stream",
          "name": "stdout",
          "text": [
            "============================================================\n",
            "МЕТОД 1: Порівняння z-статистики з критичним значенням\n",
            "============================================================\n",
            "z-статистика = -0.991\n",
            "Критичне значення = 1.645\n",
            "Порівняння: -0.991 ≤ 1.645\n",
            "Висновок: z-статистика НЕ перевищує критичне значення\n",
            "Рішення: НЕ ВІДХИЛЯЄМО H₀\n"
          ]
        }
      ]
    },
    {
      "cell_type": "markdown",
      "source": [
        "**Метод 2: Порівняння p-value з рівнем значущості** (ЧАСТІШЕ ВИКОРИСТОВУЄТЬСЯ)"
      ],
      "metadata": {
        "id": "5IBp9vtpMOgh"
      },
      "id": "5IBp9vtpMOgh"
    },
    {
      "cell_type": "code",
      "source": [
        "print(\"\\n\" + \"=\" * 60)\n",
        "print(\"МЕТОД 2: Порівняння p-value з рівнем значущості\")\n",
        "print(\"=\" * 60)\n",
        "print(\"⚠️ Цей метод використовується ЧАСТІШЕ, оскільки p-value\")\n",
        "print(\"   дає точну ймовірність і не залежить від типу тесту\")\n",
        "print()\n",
        "print(f\"p-value = {p_value:.6f}\")\n",
        "print(f\"Рівень значущості α = {alpha}\")\n",
        "print(f\"Порівняння: {p_value:.6f} {'<' if p_value < alpha else '≥'} {alpha}\")\n",
        "\n",
        "if p_value < alpha:\n",
        "    print(\"Висновок: p-value МЕНШЕ за рівень значущості\")\n",
        "    decision2 = \"ВІДХИЛЯЄМО H₀\"\n",
        "else:\n",
        "    print(\"Висновок: p-value НЕ менше за рівень значущості\")\n",
        "    decision2 = \"НЕ ВІДХИЛЯЄМО H₀\"\n",
        "\n",
        "print(f\"Рішення: {decision2}\")"
      ],
      "metadata": {
        "colab": {
          "base_uri": "https://localhost:8080/"
        },
        "id": "UwP-YP15MPyr",
        "outputId": "2e5377fc-37ce-47f9-f332-87a0d6696b57"
      },
      "id": "UwP-YP15MPyr",
      "execution_count": 37,
      "outputs": [
        {
          "output_type": "stream",
          "name": "stdout",
          "text": [
            "\n",
            "============================================================\n",
            "МЕТОД 2: Порівняння p-value з рівнем значущості\n",
            "============================================================\n",
            "⚠️ Цей метод використовується ЧАСТІШЕ, оскільки p-value\n",
            "   дає точну ймовірність і не залежить від типу тесту\n",
            "\n",
            "p-value = 0.839263\n",
            "Рівень значущості α = 0.05\n",
            "Порівняння: 0.839263 ≥ 0.05\n",
            "Висновок: p-value НЕ менше за рівень значущості\n",
            "Рішення: НЕ ВІДХИЛЯЄМО H₀\n"
          ]
        }
      ]
    },
    {
      "cell_type": "markdown",
      "source": [
        "**Графічне представлення тесту**"
      ],
      "metadata": {
        "id": "fpUBoX4xQQyH"
      },
      "id": "fpUBoX4xQQyH"
    },
    {
      "cell_type": "code",
      "source": [
        "# Створюємо детальну візуалізацію\n",
        "fig, axes = plt.subplots(1, 2, figsize=(15, 6))\n",
        "\n",
        "# Підготовка даних для графіків\n",
        "x = np.linspace(-4, 4, 1000)\n",
        "y = stats.norm.pdf(x, 0, 1)\n",
        "\n",
        "# Графік 1: Критична область\n",
        "ax1 = axes[0]\n",
        "ax1.plot(x, y, 'b-', linewidth=2, label='Стандартний нормальний розподіл')\n",
        "ax1.axvline(z_critical, color='red', linestyle='--', linewidth=2,\n",
        "            label=f'Критичне значення: {z_critical:.3f}')\n",
        "ax1.axvline(z_statistic, color='green', linestyle='-', linewidth=3,\n",
        "            label=f'Наша z-статистика: {z_statistic:.3f}')\n",
        "\n",
        "# Заливаємо критичну область\n",
        "x_crit = x[x >= z_critical]\n",
        "y_crit = stats.norm.pdf(x_crit, 0, 1)\n",
        "ax1.fill_between(x_crit, y_crit, alpha=0.3, color='red',\n",
        "                  label=f'Критична область (α={alpha})')\n",
        "\n",
        "ax1.set_xlabel('z-значення')\n",
        "ax1.set_ylabel('Щільність ймовірності')\n",
        "ax1.set_title('Критична область та наша статистика')\n",
        "ax1.legend()\n",
        "ax1.grid(True, alpha=0.3)\n",
        "\n",
        "# Графік 2: P-value\n",
        "ax2 = axes[1]\n",
        "x_means = np.linspace(population_mean - 4*standard_error,\n",
        "                      population_mean + 4*standard_error, 1000)\n",
        "y_means = stats.norm.pdf(x_means, population_mean, standard_error)\n",
        "ax2.plot(x_means, y_means, 'b-', linewidth=2,\n",
        "         label=f'Розподіл x̄ під H₀ (μ={population_mean})')\n",
        "ax2.axvline(population_mean, color='blue', linestyle=':', linewidth=2,\n",
        "            label=f'H₀: μ = {population_mean}')\n",
        "ax2.axvline(sample_mean, color='green', linestyle='-', linewidth=3,\n",
        "            label=f'Наше x̄ = {sample_mean}')\n",
        "\n",
        "# Критичне значення в термінах IQ\n",
        "critical_iq = population_mean + z_critical * standard_error\n",
        "ax2.axvline(critical_iq, color='red', linestyle='--', linewidth=2,\n",
        "            label=f'Критичне x̄ = {critical_iq:.1f}')\n",
        "\n",
        "ax2.set_xlabel('Середній чек')\n",
        "ax2.set_ylabel('Щільність ймовірності')\n",
        "ax2.set_title('Розташування вибіркових середніх')\n",
        "ax2.legend()\n",
        "ax2.grid(True, alpha=0.3)\n",
        "\n",
        "\n",
        "plt.tight_layout()\n",
        "plt.show()"
      ],
      "metadata": {
        "colab": {
          "base_uri": "https://localhost:8080/",
          "height": 507
        },
        "id": "opVAxg-lOubA",
        "outputId": "4197a6b7-3984-454c-bf87-57673ca6e63a"
      },
      "id": "opVAxg-lOubA",
      "execution_count": 57,
      "outputs": [
        {
          "output_type": "display_data",
          "data": {
            "text/plain": [
              "<Figure size 1500x600 with 2 Axes>"
            ],
            "image/png": "[encoded data removed]"
          },
          "metadata": {}
        }
      ]
    },
    {
      "cell_type": "markdown",
      "source": [
        "# Частина 2: Використання бібліотеки statsmodels"
      ],
      "metadata": {
        "id": "fPhw_fTZPWMo"
      },
      "id": "fPhw_fTZPWMo"
    },
    {
      "cell_type": "markdown",
      "source": [
        "**Завдання 2.** Виконайте обчислення z-test з використанням бібліотеки statsmodels.\n",
        "\n",
        "Отримайте z-статистику та р-значення.\n",
        "\n",
        "Виведіть p-значення та зробіть висновок, чи ми маємо достатньо доказів, аби стверджувати, що середній чек зріс.\n",
        "\n",
        "Чи зійшлись значення z-статистику та р-значення в цьому завданні з попередніми обчисленнями?\n",
        "\n",
        "Завдання оцінюється в 3 бали."
      ],
      "metadata": {
        "id": "0FOBByRMXkL2"
      },
      "id": "0FOBByRMXkL2"
    },
    {
      "cell_type": "code",
      "source": [
        "from statsmodels.stats import weightstats as stests\n",
        "\n",
        "print(\"=\" * 60)\n",
        "print(\"ВИКОРИСТАННЯ STATSMODELS ДЛЯ Z-ТЕСТУ:\")\n",
        "print(\"=\" * 60)\n",
        "print(data)\n",
        "print(\"=\" * 60)\n",
        "\n",
        "sample_mean = round(np.mean(data), 2)      # x̄ - середнє у вибірці\n",
        "print(sample_mean)\n",
        "population_mean = 20    # μ₀ - середнє в популяції (те, з чим порівнюємо)\n",
        "print(population_mean)\n",
        "population_std = np.std(data, ddof=1)      # σ - стандартне відхилення в популяції\n",
        "print(population_std)\n",
        "sample_size = data.size         # n - розмір вибірки\n",
        "print(sample_size)\n",
        "alpha = 0.05            # α - рівень значущості (ймовірність помилки I роду)\n",
        "print(alpha)"
      ],
      "metadata": {
        "id": "f_Oa0DJhdg6v",
        "colab": {
          "base_uri": "https://localhost:8080/"
        },
        "outputId": "8922f649-e6a7-4a33-dbdc-9e5e5b2af3c9"
      },
      "id": "f_Oa0DJhdg6v",
      "execution_count": 58,
      "outputs": [
        {
          "output_type": "stream",
          "name": "stdout",
          "text": [
            "============================================================\n",
            "ВИКОРИСТАННЯ STATSMODELS ДЛЯ Z-ТЕСТУ:\n",
            "============================================================\n",
            "[17.49945292 19.66239904  7.18282343 29.84162485  9.23938649 14.94951581\n",
            " 23.0172885  12.52827148 13.65228669 14.54595431 23.30872427 33.75324808\n",
            " 20.24923636 13.29244733 23.23434992 16.4230418  19.88521702 27.05000732\n",
            " 15.5127743  20.05415151 14.73135264 19.06139498 21.53942271 14.06732571\n",
            " 17.9670682  18.58289581 16.17406993 12.87432628 11.47269664 19.07902883\n",
            " 18.38565824 33.38820073  5.39139454 20.67635903 22.22266722 28.15780318\n",
            " 23.01114324 14.93471778 20.00005857 23.25411543 18.11895082 24.62607043\n",
            "  8.79145607 30.387108   28.80606806 17.98593597 23.66804468 20.28782355\n",
            " 15.02518827 20.52626131 26.00219532 17.71344489 17.74598346 19.55317542\n",
            " 22.60097798 27.67027538 16.19192417 23.05037746 21.29669604  8.84832568\n",
            " 17.48410111 19.20602661 19.76257856 21.9560206   7.75806171 20.27753314\n",
            " 15.93394654 11.36336584 23.14577858 24.41167746 16.08049839 25.05473769\n",
            " 17.71090111 20.39893405 13.40756632 29.50692234  4.04330326 19.45128426\n",
            " 24.17071763  7.79920072 18.86318441 19.53668801 24.94821803 27.48927752\n",
            " 17.57664638 11.692888   28.20341254 27.3073138  17.22796791 22.10533096\n",
            " 22.2911974  23.39765265 21.22524787 28.44017745  9.57224297 26.24494372\n",
            " 22.28283182 18.69718839 27.04118899  5.93838085]\n",
            "============================================================\n",
            "19.38\n",
            "20\n",
            "6.25356123240434\n",
            "100\n",
            "0.05\n"
          ]
        }
      ]
    },
    {
      "cell_type": "code",
      "source": [
        "# === СИНТАКСИС ФУНКЦІЇ ===\n",
        "# stests.ztest(x1,                # масив даних для тестування\n",
        "#              x2=None,            # другий масив (для двовибіркового тесту)\n",
        "#              value=0,            # значення для порівняння (наше μ₀)\n",
        "#              alternative='two-sided',  # тип тесту\n",
        "#              usevar='pooled',    # як використовувати дисперсію - лише для двовибіркових тестів\n",
        "#              ddof=1.0)           # ступені свободи\n",
        "\n",
        "# === ПАРАМЕТР alternative ===\n",
        "# 'two-sided' - двосторонній тест (H₁: μ ≠ μ₀)\n",
        "# 'larger'    - правосторонній тест (H₁: μ > μ₀) - НАШ ВИПАДОК\n",
        "# 'smaller'   - лівосторонній тест (H₁: μ < μ₀)\n",
        "\n",
        "print(\"\\n\" + \"=\" * 60)\n",
        "print(\"ВИКОНАННЯ Z-ТЕСТУ:\")\n",
        "print(\"=\" * 60)\n",
        "\n",
        "# Виконуємо правосторонній z-тест\n",
        "z_stat_sm, p_val_sm = stests.ztest(data,           # наші дані\n",
        "                                    value=population_mean,  # μ₀ = 20\n",
        "                                    alternative='larger', # H₁: μ > 20\n",
        "                                    ddof=1.0)\n",
        "\n",
        "print(f\"Результати z-тесту:\")\n",
        "print(f\"  Z-статистика: {z_stat_sm:.3f}\")\n",
        "print(f\"  P-value: {p_val_sm:.6f}\")\n",
        "print()\n",
        "\n",
        "# Інтерпретація результатів\n",
        "print(\"ІНТЕРПРЕТАЦІЯ:\")\n",
        "print(\"-\" * 40)\n",
        "if p_val_sm < alpha:\n",
        "    print(f\"✅ ВІДХИЛЯЄМО H₀\")\n",
        "    print(f\"   p-value ({p_val_sm:.6f}) < α ({alpha})\")\n",
        "    print(\"   Висновок: У нас вийшло статистично значущо підвищити середній чек за липень 2025\")\n",
        "else:\n",
        "    print(f\"❌ НЕ ВІДХИЛЯЄМО H₀\")\n",
        "    print(f\"   p-value ({p_val_sm:.6f}) ≥ α ({alpha})\")\n",
        "    print(\"   Висновок: Немає достатніх доказів, що вийшло статистично значущо підвищити середній чек за липень 2025\")\n",
        "\n",
        "# Порівняння з ручними розрахунками\n",
        "print(\"\\n\" + \"=\" * 60)\n",
        "print(\"ПОРІВНЯННЯ З РУЧНИМИ РОЗРАХУНКАМИ:\")\n",
        "print(\"=\" * 60)\n",
        "print(f\"Z-статистика:\")\n",
        "print(f\"  Ручний розрахунок: {z_statistic:.3f}\")\n",
        "print(f\"  Statsmodels:       {z_stat_sm:.3f}\")\n",
        "print(f\"  Різниця:           {abs(z_statistic - z_stat_sm):.3f}\")"
      ],
      "metadata": {
        "colab": {
          "base_uri": "https://localhost:8080/"
        },
        "id": "XKUCW6SeRYqe",
        "outputId": "72482c8b-2f9a-487f-b953-d7c8cbaa1fd9"
      },
      "id": "XKUCW6SeRYqe",
      "execution_count": 56,
      "outputs": [
        {
          "output_type": "stream",
          "name": "stdout",
          "text": [
            "\n",
            "============================================================\n",
            "ВИКОНАННЯ Z-ТЕСТУ:\n",
            "============================================================\n",
            "Результати z-тесту:\n",
            "  Z-статистика: -0.995\n",
            "  P-value: 0.840216\n",
            "\n",
            "ІНТЕРПРЕТАЦІЯ:\n",
            "----------------------------------------\n",
            "❌ НЕ ВІДХИЛЯЄМО H₀\n",
            "   p-value (0.840216) ≥ α (0.05)\n",
            "   Висновок: Немає достатніх доказів, що вийшло статистично значущо підвищити середній чек за липень 2025\n",
            "\n",
            "============================================================\n",
            "ПОРІВНЯННЯ З РУЧНИМИ РОЗРАХУНКАМИ:\n",
            "============================================================\n",
            "Z-статистика:\n",
            "  Ручний розрахунок: -0.991\n",
            "  Statsmodels:       -0.995\n",
            "  Різниця:           0.004\n"
          ]
        }
      ]
    },
    {
      "cell_type": "markdown",
      "source": [
        "**Чи зійшлись значення z-статистику та р-значення в цьому завданні з попередніми обчисленнями?**\n",
        "\n",
        "Є несуттєва різниця Z-статистики на 0.004. Статистично несуттєво, бо Z  далеко від критичних значень.\n",
        "\n",
        "Причини:\n",
        "  - є різниця яке стандартне відхилення  (ddof=0 vs ddof=1) береться для обчислень\n",
        "  - різні внутрішні алгоритми обчисленнь\n",
        "  - округлення на будь-якому проміжному кроці"
      ],
      "metadata": {
        "id": "NvuCo1QlpqNw"
      },
      "id": "NvuCo1QlpqNw"
    }
  ],
  "metadata": {
    "hide_input": false,
    "kernelspec": {
      "display_name": "Python 3 (ipykernel)",
      "language": "python",
      "name": "python3"
    },
    "language_info": {
      "codemirror_mode": {
        "name": "ipython",
        "version": 3
      },
      "file_extension": ".py",
      "mimetype": "text/x-python",
      "name": "python",
      "nbconvert_exporter": "python",
      "pygments_lexer": "ipython3",
      "version": "3.11.3"
    },
    "toc": {
      "base_numbering": 1,
      "nav_menu": {},
      "number_sections": true,
      "sideBar": true,
      "skip_h1_title": false,
      "title_cell": "Table of Contents",
      "title_sidebar": "Contents",
      "toc_cell": false,
      "toc_position": {},
      "toc_section_display": true,
      "toc_window_display": false
    },
    "varInspector": {
      "cols": {
        "lenName": 16,
        "lenType": 16,
        "lenVar": 40
      },
      "kernels_config": {
        "python": {
          "delete_cmd_postfix": "",
          "delete_cmd_prefix": "del ",
          "library": "var_list.py",
          "varRefreshCmd": "print(var_dic_list())"
        },
        "r": {
          "delete_cmd_postfix": ") ",
          "delete_cmd_prefix": "rm(",
          "library": "var_list.r",
          "varRefreshCmd": "cat(var_dic_list()) "
        }
      },
      "types_to_exclude": [
        "module",
        "function",
        "builtin_function_or_method",
        "instance",
        "_Feature"
      ],
      "window_display": false
    },
    "colab": {
      "provenance": [],
      "include_colab_link": true
    }
  },
  "nbformat": 4,
  "nbformat_minor": 5
}