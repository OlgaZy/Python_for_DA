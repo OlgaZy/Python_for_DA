{
  "cells": [
    {
      "cell_type": "markdown",
      "metadata": {
        "id": "view-in-github",
        "colab_type": "text"
      },
      "source": [
        "<a href=\"https://colab.research.google.com/github/OlgaZy/Python_for_DA/blob/main/HW_17_1_%D0%A7%D0%B8%D1%81%D1%82%D0%B8%D0%B9_%D0%BA%D0%BE%D0%B4.ipynb\" target=\"_parent\"><img src=\"https://colab.research.google.com/assets/colab-badge.svg\" alt=\"Open In Colab\"/></a>"
      ]
    },
    {
      "cell_type": "markdown",
      "id": "aed503f1",
      "metadata": {
        "ExecuteTime": {
          "end_time": "2023-07-27T20:14:32.871852Z",
          "start_time": "2023-07-27T20:14:31.036121Z"
        },
        "id": "aed503f1"
      },
      "source": [
        "У завданнях 1-4. Вам наданий простий код на Python, який не відповідає вказівкам PEP8. Ваше завдання — відредагувати код так, аби він відповідав PEP8. Напишіть після редагуванню коду, дотримання яких правил з pep8 ви досягли в відредагованій версі, наприклад\n",
        "```\n",
        "- додала пробіли навколо бінарного оператора\n",
        "- додала два порожні рядки між визначеннями функцій\n",
        "і тд\n",
        "```\n",
        "Також можна зазанчити використані правила коментарями по коду, а не окремим повідомленням.\n",
        "\n",
        "Відредагований код має виконувати весь той самий функціонал, але бути написаний відповідно до вимог до гарного коду на Python! Не забудьте запустити відредагований код, він має бути робочим."
      ]
    },
    {
      "cell_type": "markdown",
      "id": "e7fea147",
      "metadata": {
        "id": "e7fea147"
      },
      "source": [
        "Завдання 1."
      ]
    },
    {
      "cell_type": "code",
      "execution_count": 38,
      "id": "f63d84d7",
      "metadata": {
        "ExecuteTime": {
          "end_time": "2023-07-29T17:02:37.075783Z",
          "start_time": "2023-07-29T17:02:37.035259Z"
        },
        "id": "f63d84d7",
        "colab": {
          "base_uri": "https://localhost:8080/",
          "height": 71
        },
        "outputId": "9748febc-a550-4544-99f6-2c4377ec08a5"
      },
      "outputs": [
        {
          "output_type": "stream",
          "name": "stdout",
          "text": [
            "Hello, John\n"
          ]
        },
        {
          "output_type": "display_data",
          "data": {
            "text/plain": [
              "None"
            ]
          },
          "metadata": {}
        },
        {
          "output_type": "display_data",
          "data": {
            "text/plain": [
              "8"
            ]
          },
          "metadata": {}
        }
      ],
      "source": [
        "def greet(name):print(f\"Hello, {name}\")\n",
        "def add(n1,n2):return n1+n2\n",
        "\n",
        "x = 5;y = 3\n",
        "display(greet(\"John\"),add(x,y))\n"
      ]
    },
    {
      "cell_type": "code",
      "execution_count": 39,
      "id": "41b7e672",
      "metadata": {
        "id": "41b7e672",
        "colab": {
          "base_uri": "https://localhost:8080/",
          "height": 71
        },
        "outputId": "72ca60cc-e839-45e4-85a4-c7b7656642b9"
      },
      "outputs": [
        {
          "output_type": "stream",
          "name": "stdout",
          "text": [
            "Hello, John\n"
          ]
        },
        {
          "output_type": "display_data",
          "data": {
            "text/plain": [
              "None"
            ]
          },
          "metadata": {}
        },
        {
          "output_type": "display_data",
          "data": {
            "text/plain": [
              "8"
            ]
          },
          "metadata": {}
        }
      ],
      "source": [
        "def greet(name):\n",
        "    \"\"\"Return a greeting message.\"\"\"  # додано docstring для функції\n",
        "    print(f\"Hello, {name}\")  # винесено команду print на окремий рядок; додано пробіл після коми, 4 пробіли для відступів\n",
        "\n",
        "\n",
        "# додано два порожні рядки між визначеннями функцій\n",
        "def add(n1, n2):\n",
        "    \"\"\"Return the sum of two numbers.\"\"\"  # додано docstring для функції\n",
        "    return n1 + n2  # додано пробіли навколо бінарного оператора +, 4 пробіли для відступів\n",
        "\n",
        "\n",
        "# додано два порожні рядки після визначення функції\n",
        "x = 5  # кожна змінна оголошена на окремому рядку\n",
        "y = 3  # кожна змінна оголошена на окремому рядку\n",
        "\n",
        "# додано один порожній рядок перед викликом функцій\n",
        "display(greet(\"John\"), add(x, y))  # додано пробіл після коми між аргументами функції\n"
      ]
    },
    {
      "cell_type": "markdown",
      "id": "cea88baf",
      "metadata": {
        "id": "cea88baf"
      },
      "source": [
        "Завдання 2."
      ]
    },
    {
      "cell_type": "code",
      "execution_count": 40,
      "id": "dfb6d2b5",
      "metadata": {
        "ExecuteTime": {
          "end_time": "2023-07-29T17:05:49.706098Z",
          "start_time": "2023-07-29T17:05:49.688255Z"
        },
        "id": "dfb6d2b5",
        "colab": {
          "base_uri": "https://localhost:8080/"
        },
        "outputId": "c2e20f57-2388-4ddf-f15b-b6ec3dfd40d7"
      },
      "outputs": [
        {
          "output_type": "stream",
          "name": "stdout",
          "text": [
            "Area: 78.53981633974483 Circumference: 31.41592653589793\n"
          ]
        }
      ],
      "source": [
        "from math import *\n",
        "def calcArea(r):return pi*r**2\n",
        "def calcCircumference(r):return 2*pi*r\n",
        "\n",
        "radius=5\n",
        "print(\"Area:\",calcArea(radius),\"Circumference:\",calcCircumference(radius))"
      ]
    },
    {
      "cell_type": "code",
      "execution_count": 41,
      "id": "df263672",
      "metadata": {
        "id": "df263672",
        "colab": {
          "base_uri": "https://localhost:8080/"
        },
        "outputId": "fe5b04a3-6f14-4d14-862c-b22d457011a7"
      },
      "outputs": [
        {
          "output_type": "stream",
          "name": "stdout",
          "text": [
            "Area: 78.53981633974483 Circumference: 31.41592653589793\n"
          ]
        }
      ],
      "source": [
        "from math import pi  # імпортуємо тільки потрібну змінну, а не все (*)\n",
        "\n",
        "\n",
        "def calc_area(r):  # змінено стиль імені функції на snake_case\n",
        "    \"\"\"Return the area of a circle.\"\"\"  # додано docstring\n",
        "    return pi * r**2  # додано пробіли навколо оператора *, 4 пробіли для відступів\n",
        "\n",
        "\n",
        "# додано два порожні рядки між визначеннями функцій\n",
        "def calc_circumference(r):  # змінено стиль імені функції на snake_case\n",
        "    \"\"\"Return the circumference of a circle.\"\"\"  # додано docstring\n",
        "    return 2 * pi * r  # додано пробіли навколо операторів, 4 пробіли для відступів\n",
        "\n",
        "\n",
        "# додано два порожні рядки після визначень функцій\n",
        "radius = 5  # додано пробіли навколо оператора присвоєння\n",
        "\n",
        "# додано один порожній рядок перед викликом функцій\n",
        "print(\"Area:\", calc_area(radius), \"Circumference:\", calc_circumference(radius))  # додано пробіли після ком та між аргументами\n"
      ]
    },
    {
      "cell_type": "markdown",
      "id": "1fd691b7",
      "metadata": {
        "id": "1fd691b7"
      },
      "source": [
        "Завдання 3."
      ]
    },
    {
      "cell_type": "code",
      "execution_count": 42,
      "id": "1d5acb2d",
      "metadata": {
        "ExecuteTime": {
          "end_time": "2023-07-29T17:06:18.612622Z",
          "start_time": "2023-07-29T17:06:18.598477Z"
        },
        "id": "1d5acb2d"
      },
      "outputs": [],
      "source": [
        "class animal: pass\n",
        "class dog(animal):\n",
        "    def __init__(self,name):\n",
        "        self.name=name\n",
        "        self.type='Dog'"
      ]
    },
    {
      "cell_type": "code",
      "execution_count": 43,
      "id": "0d4b2b8a",
      "metadata": {
        "id": "0d4b2b8a"
      },
      "outputs": [],
      "source": [
        "class Animal:  # змінено назву класу на CamelCase (класи — з великої літери)\n",
        "    \"\"\"Base class for animals.\"\"\"  # додано docstring\n",
        "    pass # 4 пробіли для відступів\n",
        "\n",
        "\n",
        "# додано два порожні рядки між визначеннями класів\n",
        "class Dog(Animal):  # змінено назву класу на CamelCase\n",
        "    \"\"\"Represent a dog with a name and type.\"\"\"  # додано docstring\n",
        "\n",
        "    def __init__(self, name):  # додано пробіл після коми в аргументах\n",
        "        self.name = name  # додано пробіли навколо оператора присвоєння\n",
        "        self.type = \"Dog\"  # дотримано відступу 4 пробіли, лапки уніфіковано до подвійних\n"
      ]
    },
    {
      "cell_type": "markdown",
      "id": "7d1d4f5d",
      "metadata": {
        "id": "7d1d4f5d"
      },
      "source": [
        "Завдання 4."
      ]
    },
    {
      "cell_type": "code",
      "execution_count": 44,
      "id": "a91c1cc4",
      "metadata": {
        "ExecuteTime": {
          "end_time": "2023-07-29T17:06:47.180263Z",
          "start_time": "2023-07-29T17:06:47.173617Z"
        },
        "id": "a91c1cc4",
        "colab": {
          "base_uri": "https://localhost:8080/"
        },
        "outputId": "883a2e7e-7394-4114-b09c-789055bf5d57"
      },
      "outputs": [
        {
          "output_type": "stream",
          "name": "stdout",
          "text": [
            "1\n",
            "2\n",
            "3\n",
            "4\n",
            "5\n"
          ]
        }
      ],
      "source": [
        "list=[1,2,3,4,5]\n",
        "for i in range(len(list)):print(list[i])"
      ]
    },
    {
      "cell_type": "code",
      "execution_count": 45,
      "id": "c0f9541a",
      "metadata": {
        "id": "c0f9541a",
        "colab": {
          "base_uri": "https://localhost:8080/"
        },
        "outputId": "e3bc5d5e-3b50-4397-f220-551c74cb7a01"
      },
      "outputs": [
        {
          "output_type": "stream",
          "name": "stdout",
          "text": [
            "1\n",
            "2\n",
            "3\n",
            "4\n",
            "5\n"
          ]
        }
      ],
      "source": [
        "list_ = [1, 2, 3, 4, 5]  # змінено ім'я list → list_ (не можна використовувати вбудовані назви), додано пробіли після ком\n",
        "\n",
        "# додано один порожній рядок перед циклом\n",
        "for i in range(len(list_)):  #  використано правильну назву змінної\n",
        "    print(list_[i])  # винесено команду print на окремий рядок, додано 4 пробіли відступу\n"
      ]
    },
    {
      "cell_type": "markdown",
      "id": "8b0487e6",
      "metadata": {
        "id": "8b0487e6"
      },
      "source": [
        "5.У вас є DataFrame df, що представляє результати тестів студентів з математики, англійської мови та історії. Поточний код обчислює середній бал для кожного студента шляхом ітерації за рядками DataFrame за допомогою iterrows().\n",
        "\n",
        "Ваше завдання полягає в тому, щоб змінити код так, аби уникнути використання iterrows() і замість цього застосувати більш ефективне та читабельне рішення відповідно до правил, озвучених у лекції. Рефакторинг треба зробити лише частині, де рахуються середні, імпорт і визначення датафрейму лишаємо без змін."
      ]
    },
    {
      "cell_type": "code",
      "execution_count": 46,
      "id": "5b3cc648",
      "metadata": {
        "ExecuteTime": {
          "end_time": "2023-07-29T17:15:55.926882Z",
          "start_time": "2023-07-29T17:15:55.686415Z"
        },
        "id": "5b3cc648"
      },
      "outputs": [],
      "source": [
        "import pandas as pd\n",
        "\n",
        "df = pd.DataFrame({\n",
        "    'student': ['Alice', 'Bob', 'Charlie', 'David'],\n",
        "    'math_score': [89, 94, 77, 85],\n",
        "    'english_score': [92, 88, 79, 85],\n",
        "    'history_score': [84, 92, 81, 89]\n",
        "})\n",
        "\n",
        "df_new = df"
      ]
    },
    {
      "cell_type": "code",
      "execution_count": 47,
      "id": "f5858889",
      "metadata": {
        "ExecuteTime": {
          "end_time": "2023-07-29T17:15:55.926882Z",
          "start_time": "2023-07-29T17:15:55.686415Z"
        },
        "id": "f5858889",
        "colab": {
          "base_uri": "https://localhost:8080/",
          "height": 175
        },
        "outputId": "c200829e-f7d0-464c-91ea-6f6ebfe7a1a9"
      },
      "outputs": [
        {
          "output_type": "execute_result",
          "data": {
            "text/plain": [
              "   student  math_score  english_score  history_score  average_score\n",
              "0    Alice          89             92             84      88.333333\n",
              "1      Bob          94             88             92      91.333333\n",
              "2  Charlie          77             79             81      79.000000\n",
              "3    David          85             85             89      86.333333"
            ],
            "text/html": [
              "\n",
              "  <div id=\"df-8efa8268-c60e-407e-bbbd-24c340cf7528\" class=\"colab-df-container\">\n",
              "    <div>\n",
              "<style scoped>\n",
              "    .dataframe tbody tr th:only-of-type {\n",
              "        vertical-align: middle;\n",
              "    }\n",
              "\n",
              "    .dataframe tbody tr th {\n",
              "        vertical-align: top;\n",
              "    }\n",
              "\n",
              "    .dataframe thead th {\n",
              "        text-align: right;\n",
              "    }\n",
              "</style>\n",
              "<table border=\"1\" class=\"dataframe\">\n",
              "  <thead>\n",
              "    <tr style=\"text-align: right;\">\n",
              "      <th></th>\n",
              "      <th>student</th>\n",
              "      <th>math_score</th>\n",
              "      <th>english_score</th>\n",
              "      <th>history_score</th>\n",
              "      <th>average_score</th>\n",
              "    </tr>\n",
              "  </thead>\n",
              "  <tbody>\n",
              "    <tr>\n",
              "      <th>0</th>\n",
              "      <td>Alice</td>\n",
              "      <td>89</td>\n",
              "      <td>92</td>\n",
              "      <td>84</td>\n",
              "      <td>88.333333</td>\n",
              "    </tr>\n",
              "    <tr>\n",
              "      <th>1</th>\n",
              "      <td>Bob</td>\n",
              "      <td>94</td>\n",
              "      <td>88</td>\n",
              "      <td>92</td>\n",
              "      <td>91.333333</td>\n",
              "    </tr>\n",
              "    <tr>\n",
              "      <th>2</th>\n",
              "      <td>Charlie</td>\n",
              "      <td>77</td>\n",
              "      <td>79</td>\n",
              "      <td>81</td>\n",
              "      <td>79.000000</td>\n",
              "    </tr>\n",
              "    <tr>\n",
              "      <th>3</th>\n",
              "      <td>David</td>\n",
              "      <td>85</td>\n",
              "      <td>85</td>\n",
              "      <td>89</td>\n",
              "      <td>86.333333</td>\n",
              "    </tr>\n",
              "  </tbody>\n",
              "</table>\n",
              "</div>\n",
              "    <div class=\"colab-df-buttons\">\n",
              "\n",
              "  <div class=\"colab-df-container\">\n",
              "    <button class=\"colab-df-convert\" onclick=\"convertToInteractive('df-8efa8268-c60e-407e-bbbd-24c340cf7528')\"\n",
              "            title=\"Convert this dataframe to an interactive table.\"\n",
              "            style=\"display:none;\">\n",
              "\n",
              "  <svg xmlns=\"http://www.w3.org/2000/svg\" height=\"24px\" viewBox=\"0 -960 960 960\">\n",
              "    <path d=\"M120-120v-720h720v720H120Zm60-500h600v-160H180v160Zm220 220h160v-160H400v160Zm0 220h160v-160H400v160ZM180-400h160v-160H180v160Zm440 0h160v-160H620v160ZM180-180h160v-160H180v160Zm440 0h160v-160H620v160Z\"/>\n",
              "  </svg>\n",
              "    </button>\n",
              "\n",
              "  <style>\n",
              "    .colab-df-container {\n",
              "      display:flex;\n",
              "      gap: 12px;\n",
              "    }\n",
              "\n",
              "    .colab-df-convert {\n",
              "      background-color: #E8F0FE;\n",
              "      border: none;\n",
              "      border-radius: 50%;\n",
              "      cursor: pointer;\n",
              "      display: none;\n",
              "      fill: #1967D2;\n",
              "      height: 32px;\n",
              "      padding: 0 0 0 0;\n",
              "      width: 32px;\n",
              "    }\n",
              "\n",
              "    .colab-df-convert:hover {\n",
              "      background-color: #E2EBFA;\n",
              "      box-shadow: 0px 1px 2px rgba(60, 64, 67, 0.3), 0px 1px 3px 1px rgba(60, 64, 67, 0.15);\n",
              "      fill: #174EA6;\n",
              "    }\n",
              "\n",
              "    .colab-df-buttons div {\n",
              "      margin-bottom: 4px;\n",
              "    }\n",
              "\n",
              "    [theme=dark] .colab-df-convert {\n",
              "      background-color: #3B4455;\n",
              "      fill: #D2E3FC;\n",
              "    }\n",
              "\n",
              "    [theme=dark] .colab-df-convert:hover {\n",
              "      background-color: #434B5C;\n",
              "      box-shadow: 0px 1px 3px 1px rgba(0, 0, 0, 0.15);\n",
              "      filter: drop-shadow(0px 1px 2px rgba(0, 0, 0, 0.3));\n",
              "      fill: #FFFFFF;\n",
              "    }\n",
              "  </style>\n",
              "\n",
              "    <script>\n",
              "      const buttonEl =\n",
              "        document.querySelector('#df-8efa8268-c60e-407e-bbbd-24c340cf7528 button.colab-df-convert');\n",
              "      buttonEl.style.display =\n",
              "        google.colab.kernel.accessAllowed ? 'block' : 'none';\n",
              "\n",
              "      async function convertToInteractive(key) {\n",
              "        const element = document.querySelector('#df-8efa8268-c60e-407e-bbbd-24c340cf7528');\n",
              "        const dataTable =\n",
              "          await google.colab.kernel.invokeFunction('convertToInteractive',\n",
              "                                                    [key], {});\n",
              "        if (!dataTable) return;\n",
              "\n",
              "        const docLinkHtml = 'Like what you see? Visit the ' +\n",
              "          '<a target=\"_blank\" href=https://colab.research.google.com/notebooks/data_table.ipynb>data table notebook</a>'\n",
              "          + ' to learn more about interactive tables.';\n",
              "        element.innerHTML = '';\n",
              "        dataTable['output_type'] = 'display_data';\n",
              "        await google.colab.output.renderOutput(dataTable, element);\n",
              "        const docLink = document.createElement('div');\n",
              "        docLink.innerHTML = docLinkHtml;\n",
              "        element.appendChild(docLink);\n",
              "      }\n",
              "    </script>\n",
              "  </div>\n",
              "\n",
              "\n",
              "    <div id=\"df-f97477c6-b844-4bc0-b670-798353950206\">\n",
              "      <button class=\"colab-df-quickchart\" onclick=\"quickchart('df-f97477c6-b844-4bc0-b670-798353950206')\"\n",
              "                title=\"Suggest charts\"\n",
              "                style=\"display:none;\">\n",
              "\n",
              "<svg xmlns=\"http://www.w3.org/2000/svg\" height=\"24px\"viewBox=\"0 0 24 24\"\n",
              "     width=\"24px\">\n",
              "    <g>\n",
              "        <path d=\"M19 3H5c-1.1 0-2 .9-2 2v14c0 1.1.9 2 2 2h14c1.1 0 2-.9 2-2V5c0-1.1-.9-2-2-2zM9 17H7v-7h2v7zm4 0h-2V7h2v10zm4 0h-2v-4h2v4z\"/>\n",
              "    </g>\n",
              "</svg>\n",
              "      </button>\n",
              "\n",
              "<style>\n",
              "  .colab-df-quickchart {\n",
              "      --bg-color: #E8F0FE;\n",
              "      --fill-color: #1967D2;\n",
              "      --hover-bg-color: #E2EBFA;\n",
              "      --hover-fill-color: #174EA6;\n",
              "      --disabled-fill-color: #AAA;\n",
              "      --disabled-bg-color: #DDD;\n",
              "  }\n",
              "\n",
              "  [theme=dark] .colab-df-quickchart {\n",
              "      --bg-color: #3B4455;\n",
              "      --fill-color: #D2E3FC;\n",
              "      --hover-bg-color: #434B5C;\n",
              "      --hover-fill-color: #FFFFFF;\n",
              "      --disabled-bg-color: #3B4455;\n",
              "      --disabled-fill-color: #666;\n",
              "  }\n",
              "\n",
              "  .colab-df-quickchart {\n",
              "    background-color: var(--bg-color);\n",
              "    border: none;\n",
              "    border-radius: 50%;\n",
              "    cursor: pointer;\n",
              "    display: none;\n",
              "    fill: var(--fill-color);\n",
              "    height: 32px;\n",
              "    padding: 0;\n",
              "    width: 32px;\n",
              "  }\n",
              "\n",
              "  .colab-df-quickchart:hover {\n",
              "    background-color: var(--hover-bg-color);\n",
              "    box-shadow: 0 1px 2px rgba(60, 64, 67, 0.3), 0 1px 3px 1px rgba(60, 64, 67, 0.15);\n",
              "    fill: var(--button-hover-fill-color);\n",
              "  }\n",
              "\n",
              "  .colab-df-quickchart-complete:disabled,\n",
              "  .colab-df-quickchart-complete:disabled:hover {\n",
              "    background-color: var(--disabled-bg-color);\n",
              "    fill: var(--disabled-fill-color);\n",
              "    box-shadow: none;\n",
              "  }\n",
              "\n",
              "  .colab-df-spinner {\n",
              "    border: 2px solid var(--fill-color);\n",
              "    border-color: transparent;\n",
              "    border-bottom-color: var(--fill-color);\n",
              "    animation:\n",
              "      spin 1s steps(1) infinite;\n",
              "  }\n",
              "\n",
              "  @keyframes spin {\n",
              "    0% {\n",
              "      border-color: transparent;\n",
              "      border-bottom-color: var(--fill-color);\n",
              "      border-left-color: var(--fill-color);\n",
              "    }\n",
              "    20% {\n",
              "      border-color: transparent;\n",
              "      border-left-color: var(--fill-color);\n",
              "      border-top-color: var(--fill-color);\n",
              "    }\n",
              "    30% {\n",
              "      border-color: transparent;\n",
              "      border-left-color: var(--fill-color);\n",
              "      border-top-color: var(--fill-color);\n",
              "      border-right-color: var(--fill-color);\n",
              "    }\n",
              "    40% {\n",
              "      border-color: transparent;\n",
              "      border-right-color: var(--fill-color);\n",
              "      border-top-color: var(--fill-color);\n",
              "    }\n",
              "    60% {\n",
              "      border-color: transparent;\n",
              "      border-right-color: var(--fill-color);\n",
              "    }\n",
              "    80% {\n",
              "      border-color: transparent;\n",
              "      border-right-color: var(--fill-color);\n",
              "      border-bottom-color: var(--fill-color);\n",
              "    }\n",
              "    90% {\n",
              "      border-color: transparent;\n",
              "      border-bottom-color: var(--fill-color);\n",
              "    }\n",
              "  }\n",
              "</style>\n",
              "\n",
              "      <script>\n",
              "        async function quickchart(key) {\n",
              "          const quickchartButtonEl =\n",
              "            document.querySelector('#' + key + ' button');\n",
              "          quickchartButtonEl.disabled = true;  // To prevent multiple clicks.\n",
              "          quickchartButtonEl.classList.add('colab-df-spinner');\n",
              "          try {\n",
              "            const charts = await google.colab.kernel.invokeFunction(\n",
              "                'suggestCharts', [key], {});\n",
              "          } catch (error) {\n",
              "            console.error('Error during call to suggestCharts:', error);\n",
              "          }\n",
              "          quickchartButtonEl.classList.remove('colab-df-spinner');\n",
              "          quickchartButtonEl.classList.add('colab-df-quickchart-complete');\n",
              "        }\n",
              "        (() => {\n",
              "          let quickchartButtonEl =\n",
              "            document.querySelector('#df-f97477c6-b844-4bc0-b670-798353950206 button');\n",
              "          quickchartButtonEl.style.display =\n",
              "            google.colab.kernel.accessAllowed ? 'block' : 'none';\n",
              "        })();\n",
              "      </script>\n",
              "    </div>\n",
              "    </div>\n",
              "  </div>\n"
            ],
            "application/vnd.google.colaboratory.intrinsic+json": {
              "type": "dataframe",
              "variable_name": "df",
              "summary": "{\n  \"name\": \"df\",\n  \"rows\": 4,\n  \"fields\": [\n    {\n      \"column\": \"student\",\n      \"properties\": {\n        \"dtype\": \"string\",\n        \"num_unique_values\": 4,\n        \"samples\": [\n          \"Bob\",\n          \"David\",\n          \"Alice\"\n        ],\n        \"semantic_type\": \"\",\n        \"description\": \"\"\n      }\n    },\n    {\n      \"column\": \"math_score\",\n      \"properties\": {\n        \"dtype\": \"number\",\n        \"std\": 7,\n        \"min\": 77,\n        \"max\": 94,\n        \"num_unique_values\": 4,\n        \"samples\": [\n          94,\n          85,\n          89\n        ],\n        \"semantic_type\": \"\",\n        \"description\": \"\"\n      }\n    },\n    {\n      \"column\": \"english_score\",\n      \"properties\": {\n        \"dtype\": \"number\",\n        \"std\": 5,\n        \"min\": 79,\n        \"max\": 92,\n        \"num_unique_values\": 4,\n        \"samples\": [\n          88,\n          85,\n          92\n        ],\n        \"semantic_type\": \"\",\n        \"description\": \"\"\n      }\n    },\n    {\n      \"column\": \"history_score\",\n      \"properties\": {\n        \"dtype\": \"number\",\n        \"std\": 4,\n        \"min\": 81,\n        \"max\": 92,\n        \"num_unique_values\": 4,\n        \"samples\": [\n          92,\n          89,\n          84\n        ],\n        \"semantic_type\": \"\",\n        \"description\": \"\"\n      }\n    },\n    {\n      \"column\": \"average_score\",\n      \"properties\": {\n        \"dtype\": \"number\",\n        \"std\": 5.251983752196241,\n        \"min\": 79.0,\n        \"max\": 91.33333333333333,\n        \"num_unique_values\": 4,\n        \"samples\": [\n          91.33333333333333,\n          86.33333333333333,\n          88.33333333333333\n        ],\n        \"semantic_type\": \"\",\n        \"description\": \"\"\n      }\n    }\n  ]\n}"
            }
          },
          "metadata": {},
          "execution_count": 47
        }
      ],
      "source": [
        "averages = []\n",
        "for _, row in df.iterrows():\n",
        "    averages.append((row['math_score'] + row['english_score'] + row['history_score']) / 3)\n",
        "\n",
        "df['average_score'] = averages\n",
        "df"
      ]
    },
    {
      "cell_type": "code",
      "execution_count": 48,
      "id": "74cea4fc",
      "metadata": {
        "id": "74cea4fc",
        "colab": {
          "base_uri": "https://localhost:8080/",
          "height": 175
        },
        "outputId": "6a4d4425-bfe8-4507-facc-7a995a4ada49"
      },
      "outputs": [
        {
          "output_type": "execute_result",
          "data": {
            "text/plain": [
              "   student  math_score  english_score  history_score  average_score\n",
              "0    Alice          89             92             84      88.333333\n",
              "1      Bob          94             88             92      91.333333\n",
              "2  Charlie          77             79             81      79.000000\n",
              "3    David          85             85             89      86.333333"
            ],
            "text/html": [
              "\n",
              "  <div id=\"df-635c390a-340c-4574-af25-208e8e0c5659\" class=\"colab-df-container\">\n",
              "    <div>\n",
              "<style scoped>\n",
              "    .dataframe tbody tr th:only-of-type {\n",
              "        vertical-align: middle;\n",
              "    }\n",
              "\n",
              "    .dataframe tbody tr th {\n",
              "        vertical-align: top;\n",
              "    }\n",
              "\n",
              "    .dataframe thead th {\n",
              "        text-align: right;\n",
              "    }\n",
              "</style>\n",
              "<table border=\"1\" class=\"dataframe\">\n",
              "  <thead>\n",
              "    <tr style=\"text-align: right;\">\n",
              "      <th></th>\n",
              "      <th>student</th>\n",
              "      <th>math_score</th>\n",
              "      <th>english_score</th>\n",
              "      <th>history_score</th>\n",
              "      <th>average_score</th>\n",
              "    </tr>\n",
              "  </thead>\n",
              "  <tbody>\n",
              "    <tr>\n",
              "      <th>0</th>\n",
              "      <td>Alice</td>\n",
              "      <td>89</td>\n",
              "      <td>92</td>\n",
              "      <td>84</td>\n",
              "      <td>88.333333</td>\n",
              "    </tr>\n",
              "    <tr>\n",
              "      <th>1</th>\n",
              "      <td>Bob</td>\n",
              "      <td>94</td>\n",
              "      <td>88</td>\n",
              "      <td>92</td>\n",
              "      <td>91.333333</td>\n",
              "    </tr>\n",
              "    <tr>\n",
              "      <th>2</th>\n",
              "      <td>Charlie</td>\n",
              "      <td>77</td>\n",
              "      <td>79</td>\n",
              "      <td>81</td>\n",
              "      <td>79.000000</td>\n",
              "    </tr>\n",
              "    <tr>\n",
              "      <th>3</th>\n",
              "      <td>David</td>\n",
              "      <td>85</td>\n",
              "      <td>85</td>\n",
              "      <td>89</td>\n",
              "      <td>86.333333</td>\n",
              "    </tr>\n",
              "  </tbody>\n",
              "</table>\n",
              "</div>\n",
              "    <div class=\"colab-df-buttons\">\n",
              "\n",
              "  <div class=\"colab-df-container\">\n",
              "    <button class=\"colab-df-convert\" onclick=\"convertToInteractive('df-635c390a-340c-4574-af25-208e8e0c5659')\"\n",
              "            title=\"Convert this dataframe to an interactive table.\"\n",
              "            style=\"display:none;\">\n",
              "\n",
              "  <svg xmlns=\"http://www.w3.org/2000/svg\" height=\"24px\" viewBox=\"0 -960 960 960\">\n",
              "    <path d=\"M120-120v-720h720v720H120Zm60-500h600v-160H180v160Zm220 220h160v-160H400v160Zm0 220h160v-160H400v160ZM180-400h160v-160H180v160Zm440 0h160v-160H620v160ZM180-180h160v-160H180v160Zm440 0h160v-160H620v160Z\"/>\n",
              "  </svg>\n",
              "    </button>\n",
              "\n",
              "  <style>\n",
              "    .colab-df-container {\n",
              "      display:flex;\n",
              "      gap: 12px;\n",
              "    }\n",
              "\n",
              "    .colab-df-convert {\n",
              "      background-color: #E8F0FE;\n",
              "      border: none;\n",
              "      border-radius: 50%;\n",
              "      cursor: pointer;\n",
              "      display: none;\n",
              "      fill: #1967D2;\n",
              "      height: 32px;\n",
              "      padding: 0 0 0 0;\n",
              "      width: 32px;\n",
              "    }\n",
              "\n",
              "    .colab-df-convert:hover {\n",
              "      background-color: #E2EBFA;\n",
              "      box-shadow: 0px 1px 2px rgba(60, 64, 67, 0.3), 0px 1px 3px 1px rgba(60, 64, 67, 0.15);\n",
              "      fill: #174EA6;\n",
              "    }\n",
              "\n",
              "    .colab-df-buttons div {\n",
              "      margin-bottom: 4px;\n",
              "    }\n",
              "\n",
              "    [theme=dark] .colab-df-convert {\n",
              "      background-color: #3B4455;\n",
              "      fill: #D2E3FC;\n",
              "    }\n",
              "\n",
              "    [theme=dark] .colab-df-convert:hover {\n",
              "      background-color: #434B5C;\n",
              "      box-shadow: 0px 1px 3px 1px rgba(0, 0, 0, 0.15);\n",
              "      filter: drop-shadow(0px 1px 2px rgba(0, 0, 0, 0.3));\n",
              "      fill: #FFFFFF;\n",
              "    }\n",
              "  </style>\n",
              "\n",
              "    <script>\n",
              "      const buttonEl =\n",
              "        document.querySelector('#df-635c390a-340c-4574-af25-208e8e0c5659 button.colab-df-convert');\n",
              "      buttonEl.style.display =\n",
              "        google.colab.kernel.accessAllowed ? 'block' : 'none';\n",
              "\n",
              "      async function convertToInteractive(key) {\n",
              "        const element = document.querySelector('#df-635c390a-340c-4574-af25-208e8e0c5659');\n",
              "        const dataTable =\n",
              "          await google.colab.kernel.invokeFunction('convertToInteractive',\n",
              "                                                    [key], {});\n",
              "        if (!dataTable) return;\n",
              "\n",
              "        const docLinkHtml = 'Like what you see? Visit the ' +\n",
              "          '<a target=\"_blank\" href=https://colab.research.google.com/notebooks/data_table.ipynb>data table notebook</a>'\n",
              "          + ' to learn more about interactive tables.';\n",
              "        element.innerHTML = '';\n",
              "        dataTable['output_type'] = 'display_data';\n",
              "        await google.colab.output.renderOutput(dataTable, element);\n",
              "        const docLink = document.createElement('div');\n",
              "        docLink.innerHTML = docLinkHtml;\n",
              "        element.appendChild(docLink);\n",
              "      }\n",
              "    </script>\n",
              "  </div>\n",
              "\n",
              "\n",
              "    <div id=\"df-274e6b77-a89b-4c2e-b316-5cc5c7c34edc\">\n",
              "      <button class=\"colab-df-quickchart\" onclick=\"quickchart('df-274e6b77-a89b-4c2e-b316-5cc5c7c34edc')\"\n",
              "                title=\"Suggest charts\"\n",
              "                style=\"display:none;\">\n",
              "\n",
              "<svg xmlns=\"http://www.w3.org/2000/svg\" height=\"24px\"viewBox=\"0 0 24 24\"\n",
              "     width=\"24px\">\n",
              "    <g>\n",
              "        <path d=\"M19 3H5c-1.1 0-2 .9-2 2v14c0 1.1.9 2 2 2h14c1.1 0 2-.9 2-2V5c0-1.1-.9-2-2-2zM9 17H7v-7h2v7zm4 0h-2V7h2v10zm4 0h-2v-4h2v4z\"/>\n",
              "    </g>\n",
              "</svg>\n",
              "      </button>\n",
              "\n",
              "<style>\n",
              "  .colab-df-quickchart {\n",
              "      --bg-color: #E8F0FE;\n",
              "      --fill-color: #1967D2;\n",
              "      --hover-bg-color: #E2EBFA;\n",
              "      --hover-fill-color: #174EA6;\n",
              "      --disabled-fill-color: #AAA;\n",
              "      --disabled-bg-color: #DDD;\n",
              "  }\n",
              "\n",
              "  [theme=dark] .colab-df-quickchart {\n",
              "      --bg-color: #3B4455;\n",
              "      --fill-color: #D2E3FC;\n",
              "      --hover-bg-color: #434B5C;\n",
              "      --hover-fill-color: #FFFFFF;\n",
              "      --disabled-bg-color: #3B4455;\n",
              "      --disabled-fill-color: #666;\n",
              "  }\n",
              "\n",
              "  .colab-df-quickchart {\n",
              "    background-color: var(--bg-color);\n",
              "    border: none;\n",
              "    border-radius: 50%;\n",
              "    cursor: pointer;\n",
              "    display: none;\n",
              "    fill: var(--fill-color);\n",
              "    height: 32px;\n",
              "    padding: 0;\n",
              "    width: 32px;\n",
              "  }\n",
              "\n",
              "  .colab-df-quickchart:hover {\n",
              "    background-color: var(--hover-bg-color);\n",
              "    box-shadow: 0 1px 2px rgba(60, 64, 67, 0.3), 0 1px 3px 1px rgba(60, 64, 67, 0.15);\n",
              "    fill: var(--button-hover-fill-color);\n",
              "  }\n",
              "\n",
              "  .colab-df-quickchart-complete:disabled,\n",
              "  .colab-df-quickchart-complete:disabled:hover {\n",
              "    background-color: var(--disabled-bg-color);\n",
              "    fill: var(--disabled-fill-color);\n",
              "    box-shadow: none;\n",
              "  }\n",
              "\n",
              "  .colab-df-spinner {\n",
              "    border: 2px solid var(--fill-color);\n",
              "    border-color: transparent;\n",
              "    border-bottom-color: var(--fill-color);\n",
              "    animation:\n",
              "      spin 1s steps(1) infinite;\n",
              "  }\n",
              "\n",
              "  @keyframes spin {\n",
              "    0% {\n",
              "      border-color: transparent;\n",
              "      border-bottom-color: var(--fill-color);\n",
              "      border-left-color: var(--fill-color);\n",
              "    }\n",
              "    20% {\n",
              "      border-color: transparent;\n",
              "      border-left-color: var(--fill-color);\n",
              "      border-top-color: var(--fill-color);\n",
              "    }\n",
              "    30% {\n",
              "      border-color: transparent;\n",
              "      border-left-color: var(--fill-color);\n",
              "      border-top-color: var(--fill-color);\n",
              "      border-right-color: var(--fill-color);\n",
              "    }\n",
              "    40% {\n",
              "      border-color: transparent;\n",
              "      border-right-color: var(--fill-color);\n",
              "      border-top-color: var(--fill-color);\n",
              "    }\n",
              "    60% {\n",
              "      border-color: transparent;\n",
              "      border-right-color: var(--fill-color);\n",
              "    }\n",
              "    80% {\n",
              "      border-color: transparent;\n",
              "      border-right-color: var(--fill-color);\n",
              "      border-bottom-color: var(--fill-color);\n",
              "    }\n",
              "    90% {\n",
              "      border-color: transparent;\n",
              "      border-bottom-color: var(--fill-color);\n",
              "    }\n",
              "  }\n",
              "</style>\n",
              "\n",
              "      <script>\n",
              "        async function quickchart(key) {\n",
              "          const quickchartButtonEl =\n",
              "            document.querySelector('#' + key + ' button');\n",
              "          quickchartButtonEl.disabled = true;  // To prevent multiple clicks.\n",
              "          quickchartButtonEl.classList.add('colab-df-spinner');\n",
              "          try {\n",
              "            const charts = await google.colab.kernel.invokeFunction(\n",
              "                'suggestCharts', [key], {});\n",
              "          } catch (error) {\n",
              "            console.error('Error during call to suggestCharts:', error);\n",
              "          }\n",
              "          quickchartButtonEl.classList.remove('colab-df-spinner');\n",
              "          quickchartButtonEl.classList.add('colab-df-quickchart-complete');\n",
              "        }\n",
              "        (() => {\n",
              "          let quickchartButtonEl =\n",
              "            document.querySelector('#df-274e6b77-a89b-4c2e-b316-5cc5c7c34edc button');\n",
              "          quickchartButtonEl.style.display =\n",
              "            google.colab.kernel.accessAllowed ? 'block' : 'none';\n",
              "        })();\n",
              "      </script>\n",
              "    </div>\n",
              "    </div>\n",
              "  </div>\n"
            ],
            "application/vnd.google.colaboratory.intrinsic+json": {
              "type": "dataframe",
              "variable_name": "df",
              "summary": "{\n  \"name\": \"df\",\n  \"rows\": 4,\n  \"fields\": [\n    {\n      \"column\": \"student\",\n      \"properties\": {\n        \"dtype\": \"string\",\n        \"num_unique_values\": 4,\n        \"samples\": [\n          \"Bob\",\n          \"David\",\n          \"Alice\"\n        ],\n        \"semantic_type\": \"\",\n        \"description\": \"\"\n      }\n    },\n    {\n      \"column\": \"math_score\",\n      \"properties\": {\n        \"dtype\": \"number\",\n        \"std\": 7,\n        \"min\": 77,\n        \"max\": 94,\n        \"num_unique_values\": 4,\n        \"samples\": [\n          94,\n          85,\n          89\n        ],\n        \"semantic_type\": \"\",\n        \"description\": \"\"\n      }\n    },\n    {\n      \"column\": \"english_score\",\n      \"properties\": {\n        \"dtype\": \"number\",\n        \"std\": 5,\n        \"min\": 79,\n        \"max\": 92,\n        \"num_unique_values\": 4,\n        \"samples\": [\n          88,\n          85,\n          92\n        ],\n        \"semantic_type\": \"\",\n        \"description\": \"\"\n      }\n    },\n    {\n      \"column\": \"history_score\",\n      \"properties\": {\n        \"dtype\": \"number\",\n        \"std\": 4,\n        \"min\": 81,\n        \"max\": 92,\n        \"num_unique_values\": 4,\n        \"samples\": [\n          92,\n          89,\n          84\n        ],\n        \"semantic_type\": \"\",\n        \"description\": \"\"\n      }\n    },\n    {\n      \"column\": \"average_score\",\n      \"properties\": {\n        \"dtype\": \"number\",\n        \"std\": 5.251983752196241,\n        \"min\": 79.0,\n        \"max\": 91.33333333333333,\n        \"num_unique_values\": 4,\n        \"samples\": [\n          91.33333333333333,\n          86.33333333333333,\n          88.33333333333333\n        ],\n        \"semantic_type\": \"\",\n        \"description\": \"\"\n      }\n    }\n  ]\n}"
            }
          },
          "metadata": {},
          "execution_count": 48
        }
      ],
      "source": [
        "# обчислення середнього балу за допомогою векторизованої операції\n",
        "df_new['average_score'] = df_new[['math_score', 'english_score', 'history_score']].mean(axis=1)\n",
        "df_new"
      ]
    },
    {
      "cell_type": "markdown",
      "id": "34fb1db9",
      "metadata": {
        "id": "34fb1db9"
      },
      "source": [
        "6.У Вас є великий DataFrame df, що представляє транзакції продажу в магазині. Цей DataFrame містить понад 1 мільйон рядків і кілька стовпців, зокрема «product_name», «product_category», «product_price» і «transaction_date».\n",
        "\n",
        "І «product_name», і «product_category» є рядками, що представляють численні, але обмежені унікальні назви продуктів і категорії відповідно.\n",
        "\n",
        "Напишіть код для ефективного перетворення стовпців «product_name» і «product_category» на категорійний тип для ефективного використання пам’яті.\n",
        "Спробуйте вирішити це завдання, мінімізуючи використання пам'яті та зберігаючи читабельність коду. Крім того, виміряйте використання пам’яті до та після перетворення, щоб продемонструвати підвищення ефективності.\n",
        "\n",
        "Порівняйте кількість памʼяті, яку займає наданий набір даних і новий, створений Вами. В лекції був приклад. В скільки разів менше памʼяті займає новий датафрейм?"
      ]
    },
    {
      "cell_type": "code",
      "execution_count": 49,
      "id": "d4926909",
      "metadata": {
        "ExecuteTime": {
          "end_time": "2023-07-29T21:19:30.009527Z",
          "start_time": "2023-07-29T21:19:29.595210Z"
        },
        "id": "d4926909",
        "colab": {
          "base_uri": "https://localhost:8080/"
        },
        "outputId": "a3b364a7-7e43-411a-9bf9-981c22f17607"
      },
      "outputs": [
        {
          "output_type": "stream",
          "name": "stdout",
          "text": [
            "Before conversion: 32,000,000 bytes\n"
          ]
        }
      ],
      "source": [
        "import pandas as pd\n",
        "import numpy as np\n",
        "\n",
        "np.random.seed(0)\n",
        "\n",
        "products = ['apple', 'banana', 'cherry', 'dates', 'elderberry']\n",
        "categories = ['fruit', 'fruit', 'fruit', 'fruit', 'fruit']\n",
        "\n",
        "N_ROWS = 10**6\n",
        "df = pd.DataFrame({\n",
        "    'product_name': np.random.choice(products, N_ROWS),\n",
        "    'product_category': np.random.choice(categories, N_ROWS),\n",
        "    'product_price': np.random.uniform(1, 10, N_ROWS),\n",
        "    'transaction_date': pd.date_range(start='1/1/2000', periods=N_ROWS, freq='h')\n",
        "})\n",
        "\n",
        "\n",
        "# Вимірюємо пам'ять ДО перетворення\n",
        "before_memory_usage = df.memory_usage(index=False).sum()\n",
        "print(f\"Before conversion: {before_memory_usage:,} bytes\")"
      ]
    },
    {
      "cell_type": "code",
      "source": [
        "# Перетворюємо текстові колонки на категоріальний тип\n",
        "for col in ['product_name', 'product_category']:\n",
        "    df[col] = pd.Categorical(df[col])\n",
        "\n",
        "# Вимірюємо пам'ять ПІСЛЯ перетворення\n",
        "after_memory_usage = df.memory_usage(index=False).sum()\n",
        "print(f\"After conversion:  {after_memory_usage:,} bytes\")"
      ],
      "metadata": {
        "colab": {
          "base_uri": "https://localhost:8080/"
        },
        "id": "EVKQlbj4PhDb",
        "outputId": "601f28e5-3874-4ba5-9998-3799b110738d"
      },
      "id": "EVKQlbj4PhDb",
      "execution_count": 50,
      "outputs": [
        {
          "output_type": "stream",
          "name": "stdout",
          "text": [
            "After conversion:  18,000,328 bytes\n"
          ]
        }
      ]
    },
    {
      "cell_type": "code",
      "source": [
        "# Показуємо економію пам’яті\n",
        "print(f\"Memory reduced by: {before_memory_usage - after_memory_usage:,} bytes ({(1 - after_memory_usage / before_memory_usage) * 100:.2f}% less)\")"
      ],
      "metadata": {
        "colab": {
          "base_uri": "https://localhost:8080/"
        },
        "id": "fAUZDEH4XOIr",
        "outputId": "197d81e5-1a9f-4660-bd76-59accc3ad9c0"
      },
      "id": "fAUZDEH4XOIr",
      "execution_count": 51,
      "outputs": [
        {
          "output_type": "stream",
          "name": "stdout",
          "text": [
            "Memory reduced by: 13,999,672 bytes (43.75% less)\n"
          ]
        }
      ]
    },
    {
      "cell_type": "markdown",
      "id": "131cc08d",
      "metadata": {
        "id": "131cc08d"
      },
      "source": [
        "7.В цьому завданні кілька пунктів. Треба виконати усі послідовно.   \n",
        "    7.1. Завантажте дані у pandas dataframe з файла `ecommerce_data.csv`. Обовʼязково при завантаженні вкажіть параметр `encoding = 'ISO-8859-1'`, без нього буде помилка.  \n",
        "    7.2. Заповніть пропущені значення в колонці CustomerID на -1 та перетворіть тип цієї колонки на str, адже зараз вона типу float, а це не правильний тип даних для ідентифікатора клієнта.  \n",
        "    7.3. З допомогою бібліотеки sweetviz побудуйте html звіт, який порівнює дані для країни \"Germany\" і країни \"France\". У Вас можуть виникнути багато попереджень (Warning), їх рекомендую вимкнути наступним шматком коду   \n",
        "    \n",
        "   \n",
        "    import warnings\n",
        "\n",
        "    with warnings.catch_warnings(record=True):\n",
        "        # your code\n",
        "    \n",
        "    \n",
        "   7.4.Напишіть 5 відмінностей для двох зазначених країн на основі побудованого звіту, без виконання додаткового аналізу іншими інструментами."
      ]
    },
    {
      "cell_type": "code",
      "source": [
        "from google.colab import drive\n",
        "drive.mount('/content/drive')"
      ],
      "metadata": {
        "colab": {
          "base_uri": "https://localhost:8080/"
        },
        "id": "bFowLFd1kMvx",
        "outputId": "82dd230d-5390-44cf-9bff-616967f1e5bb"
      },
      "id": "bFowLFd1kMvx",
      "execution_count": 52,
      "outputs": [
        {
          "output_type": "stream",
          "name": "stdout",
          "text": [
            "Drive already mounted at /content/drive; to attempt to forcibly remount, call drive.mount(\"/content/drive\", force_remount=True).\n"
          ]
        }
      ]
    },
    {
      "cell_type": "code",
      "execution_count": 53,
      "id": "17200e77",
      "metadata": {
        "id": "17200e77",
        "colab": {
          "base_uri": "https://localhost:8080/"
        },
        "outputId": "4ce6db5c-9bf7-48d8-df39-3a923096713f"
      },
      "outputs": [
        {
          "output_type": "execute_result",
          "data": {
            "text/plain": [
              "(541909, 8)"
            ]
          },
          "metadata": {},
          "execution_count": 53
        }
      ],
      "source": [
        "df = pd.read_csv(\"/content/drive/MyDrive/DA_in_IT/Data/ecommerce_data.csv\", encoding='ISO-8859-1')\n",
        "df.shape"
      ]
    },
    {
      "cell_type": "code",
      "source": [
        "df"
      ],
      "metadata": {
        "colab": {
          "base_uri": "https://localhost:8080/",
          "height": 424
        },
        "id": "5dCSmmAalFL9",
        "outputId": "30aa7fda-414e-459f-823b-99d8c1fb1101"
      },
      "id": "5dCSmmAalFL9",
      "execution_count": 54,
      "outputs": [
        {
          "output_type": "execute_result",
          "data": {
            "text/plain": [
              "       InvoiceNo StockCode                          Description  Quantity  \\\n",
              "0         536365    85123A   WHITE HANGING HEART T-LIGHT HOLDER         6   \n",
              "1         536365     71053                  WHITE METAL LANTERN         6   \n",
              "2         536365    84406B       CREAM CUPID HEARTS COAT HANGER         8   \n",
              "3         536365    84029G  KNITTED UNION FLAG HOT WATER BOTTLE         6   \n",
              "4         536365    84029E       RED WOOLLY HOTTIE WHITE HEART.         6   \n",
              "...          ...       ...                                  ...       ...   \n",
              "541904    581587     22613          PACK OF 20 SPACEBOY NAPKINS        12   \n",
              "541905    581587     22899         CHILDREN'S APRON DOLLY GIRL          6   \n",
              "541906    581587     23254        CHILDRENS CUTLERY DOLLY GIRL          4   \n",
              "541907    581587     23255      CHILDRENS CUTLERY CIRCUS PARADE         4   \n",
              "541908    581587     22138        BAKING SET 9 PIECE RETROSPOT          3   \n",
              "\n",
              "            InvoiceDate  UnitPrice  CustomerID         Country  \n",
              "0        12/1/2010 8:26       2.55     17850.0  United Kingdom  \n",
              "1        12/1/2010 8:26       3.39     17850.0  United Kingdom  \n",
              "2        12/1/2010 8:26       2.75     17850.0  United Kingdom  \n",
              "3        12/1/2010 8:26       3.39     17850.0  United Kingdom  \n",
              "4        12/1/2010 8:26       3.39     17850.0  United Kingdom  \n",
              "...                 ...        ...         ...             ...  \n",
              "541904  12/9/2011 12:50       0.85     12680.0          France  \n",
              "541905  12/9/2011 12:50       2.10     12680.0          France  \n",
              "541906  12/9/2011 12:50       4.15     12680.0          France  \n",
              "541907  12/9/2011 12:50       4.15     12680.0          France  \n",
              "541908  12/9/2011 12:50       4.95     12680.0          France  \n",
              "\n",
              "[541909 rows x 8 columns]"
            ],
            "text/html": [
              "\n",
              "  <div id=\"df-c5a9b8be-edcf-453f-b9ee-9a3d9a27af93\" class=\"colab-df-container\">\n",
              "    <div>\n",
              "<style scoped>\n",
              "    .dataframe tbody tr th:only-of-type {\n",
              "        vertical-align: middle;\n",
              "    }\n",
              "\n",
              "    .dataframe tbody tr th {\n",
              "        vertical-align: top;\n",
              "    }\n",
              "\n",
              "    .dataframe thead th {\n",
              "        text-align: right;\n",
              "    }\n",
              "</style>\n",
              "<table border=\"1\" class=\"dataframe\">\n",
              "  <thead>\n",
              "    <tr style=\"text-align: right;\">\n",
              "      <th></th>\n",
              "      <th>InvoiceNo</th>\n",
              "      <th>StockCode</th>\n",
              "      <th>Description</th>\n",
              "      <th>Quantity</th>\n",
              "      <th>InvoiceDate</th>\n",
              "      <th>UnitPrice</th>\n",
              "      <th>CustomerID</th>\n",
              "      <th>Country</th>\n",
              "    </tr>\n",
              "  </thead>\n",
              "  <tbody>\n",
              "    <tr>\n",
              "      <th>0</th>\n",
              "      <td>536365</td>\n",
              "      <td>85123A</td>\n",
              "      <td>WHITE HANGING HEART T-LIGHT HOLDER</td>\n",
              "      <td>6</td>\n",
              "      <td>12/1/2010 8:26</td>\n",
              "      <td>2.55</td>\n",
              "      <td>17850.0</td>\n",
              "      <td>United Kingdom</td>\n",
              "    </tr>\n",
              "    <tr>\n",
              "      <th>1</th>\n",
              "      <td>536365</td>\n",
              "      <td>71053</td>\n",
              "      <td>WHITE METAL LANTERN</td>\n",
              "      <td>6</td>\n",
              "      <td>12/1/2010 8:26</td>\n",
              "      <td>3.39</td>\n",
              "      <td>17850.0</td>\n",
              "      <td>United Kingdom</td>\n",
              "    </tr>\n",
              "    <tr>\n",
              "      <th>2</th>\n",
              "      <td>536365</td>\n",
              "      <td>84406B</td>\n",
              "      <td>CREAM CUPID HEARTS COAT HANGER</td>\n",
              "      <td>8</td>\n",
              "      <td>12/1/2010 8:26</td>\n",
              "      <td>2.75</td>\n",
              "      <td>17850.0</td>\n",
              "      <td>United Kingdom</td>\n",
              "    </tr>\n",
              "    <tr>\n",
              "      <th>3</th>\n",
              "      <td>536365</td>\n",
              "      <td>84029G</td>\n",
              "      <td>KNITTED UNION FLAG HOT WATER BOTTLE</td>\n",
              "      <td>6</td>\n",
              "      <td>12/1/2010 8:26</td>\n",
              "      <td>3.39</td>\n",
              "      <td>17850.0</td>\n",
              "      <td>United Kingdom</td>\n",
              "    </tr>\n",
              "    <tr>\n",
              "      <th>4</th>\n",
              "      <td>536365</td>\n",
              "      <td>84029E</td>\n",
              "      <td>RED WOOLLY HOTTIE WHITE HEART.</td>\n",
              "      <td>6</td>\n",
              "      <td>12/1/2010 8:26</td>\n",
              "      <td>3.39</td>\n",
              "      <td>17850.0</td>\n",
              "      <td>United Kingdom</td>\n",
              "    </tr>\n",
              "    <tr>\n",
              "      <th>...</th>\n",
              "      <td>...</td>\n",
              "      <td>...</td>\n",
              "      <td>...</td>\n",
              "      <td>...</td>\n",
              "      <td>...</td>\n",
              "      <td>...</td>\n",
              "      <td>...</td>\n",
              "      <td>...</td>\n",
              "    </tr>\n",
              "    <tr>\n",
              "      <th>541904</th>\n",
              "      <td>581587</td>\n",
              "      <td>22613</td>\n",
              "      <td>PACK OF 20 SPACEBOY NAPKINS</td>\n",
              "      <td>12</td>\n",
              "      <td>12/9/2011 12:50</td>\n",
              "      <td>0.85</td>\n",
              "      <td>12680.0</td>\n",
              "      <td>France</td>\n",
              "    </tr>\n",
              "    <tr>\n",
              "      <th>541905</th>\n",
              "      <td>581587</td>\n",
              "      <td>22899</td>\n",
              "      <td>CHILDREN'S APRON DOLLY GIRL</td>\n",
              "      <td>6</td>\n",
              "      <td>12/9/2011 12:50</td>\n",
              "      <td>2.10</td>\n",
              "      <td>12680.0</td>\n",
              "      <td>France</td>\n",
              "    </tr>\n",
              "    <tr>\n",
              "      <th>541906</th>\n",
              "      <td>581587</td>\n",
              "      <td>23254</td>\n",
              "      <td>CHILDRENS CUTLERY DOLLY GIRL</td>\n",
              "      <td>4</td>\n",
              "      <td>12/9/2011 12:50</td>\n",
              "      <td>4.15</td>\n",
              "      <td>12680.0</td>\n",
              "      <td>France</td>\n",
              "    </tr>\n",
              "    <tr>\n",
              "      <th>541907</th>\n",
              "      <td>581587</td>\n",
              "      <td>23255</td>\n",
              "      <td>CHILDRENS CUTLERY CIRCUS PARADE</td>\n",
              "      <td>4</td>\n",
              "      <td>12/9/2011 12:50</td>\n",
              "      <td>4.15</td>\n",
              "      <td>12680.0</td>\n",
              "      <td>France</td>\n",
              "    </tr>\n",
              "    <tr>\n",
              "      <th>541908</th>\n",
              "      <td>581587</td>\n",
              "      <td>22138</td>\n",
              "      <td>BAKING SET 9 PIECE RETROSPOT</td>\n",
              "      <td>3</td>\n",
              "      <td>12/9/2011 12:50</td>\n",
              "      <td>4.95</td>\n",
              "      <td>12680.0</td>\n",
              "      <td>France</td>\n",
              "    </tr>\n",
              "  </tbody>\n",
              "</table>\n",
              "<p>541909 rows × 8 columns</p>\n",
              "</div>\n",
              "    <div class=\"colab-df-buttons\">\n",
              "\n",
              "  <div class=\"colab-df-container\">\n",
              "    <button class=\"colab-df-convert\" onclick=\"convertToInteractive('df-c5a9b8be-edcf-453f-b9ee-9a3d9a27af93')\"\n",
              "            title=\"Convert this dataframe to an interactive table.\"\n",
              "            style=\"display:none;\">\n",
              "\n",
              "  <svg xmlns=\"http://www.w3.org/2000/svg\" height=\"24px\" viewBox=\"0 -960 960 960\">\n",
              "    <path d=\"M120-120v-720h720v720H120Zm60-500h600v-160H180v160Zm220 220h160v-160H400v160Zm0 220h160v-160H400v160ZM180-400h160v-160H180v160Zm440 0h160v-160H620v160ZM180-180h160v-160H180v160Zm440 0h160v-160H620v160Z\"/>\n",
              "  </svg>\n",
              "    </button>\n",
              "\n",
              "  <style>\n",
              "    .colab-df-container {\n",
              "      display:flex;\n",
              "      gap: 12px;\n",
              "    }\n",
              "\n",
              "    .colab-df-convert {\n",
              "      background-color: #E8F0FE;\n",
              "      border: none;\n",
              "      border-radius: 50%;\n",
              "      cursor: pointer;\n",
              "      display: none;\n",
              "      fill: #1967D2;\n",
              "      height: 32px;\n",
              "      padding: 0 0 0 0;\n",
              "      width: 32px;\n",
              "    }\n",
              "\n",
              "    .colab-df-convert:hover {\n",
              "      background-color: #E2EBFA;\n",
              "      box-shadow: 0px 1px 2px rgba(60, 64, 67, 0.3), 0px 1px 3px 1px rgba(60, 64, 67, 0.15);\n",
              "      fill: #174EA6;\n",
              "    }\n",
              "\n",
              "    .colab-df-buttons div {\n",
              "      margin-bottom: 4px;\n",
              "    }\n",
              "\n",
              "    [theme=dark] .colab-df-convert {\n",
              "      background-color: #3B4455;\n",
              "      fill: #D2E3FC;\n",
              "    }\n",
              "\n",
              "    [theme=dark] .colab-df-convert:hover {\n",
              "      background-color: #434B5C;\n",
              "      box-shadow: 0px 1px 3px 1px rgba(0, 0, 0, 0.15);\n",
              "      filter: drop-shadow(0px 1px 2px rgba(0, 0, 0, 0.3));\n",
              "      fill: #FFFFFF;\n",
              "    }\n",
              "  </style>\n",
              "\n",
              "    <script>\n",
              "      const buttonEl =\n",
              "        document.querySelector('#df-c5a9b8be-edcf-453f-b9ee-9a3d9a27af93 button.colab-df-convert');\n",
              "      buttonEl.style.display =\n",
              "        google.colab.kernel.accessAllowed ? 'block' : 'none';\n",
              "\n",
              "      async function convertToInteractive(key) {\n",
              "        const element = document.querySelector('#df-c5a9b8be-edcf-453f-b9ee-9a3d9a27af93');\n",
              "        const dataTable =\n",
              "          await google.colab.kernel.invokeFunction('convertToInteractive',\n",
              "                                                    [key], {});\n",
              "        if (!dataTable) return;\n",
              "\n",
              "        const docLinkHtml = 'Like what you see? Visit the ' +\n",
              "          '<a target=\"_blank\" href=https://colab.research.google.com/notebooks/data_table.ipynb>data table notebook</a>'\n",
              "          + ' to learn more about interactive tables.';\n",
              "        element.innerHTML = '';\n",
              "        dataTable['output_type'] = 'display_data';\n",
              "        await google.colab.output.renderOutput(dataTable, element);\n",
              "        const docLink = document.createElement('div');\n",
              "        docLink.innerHTML = docLinkHtml;\n",
              "        element.appendChild(docLink);\n",
              "      }\n",
              "    </script>\n",
              "  </div>\n",
              "\n",
              "\n",
              "    <div id=\"df-15909db7-08cb-4906-8a66-def194e8b93c\">\n",
              "      <button class=\"colab-df-quickchart\" onclick=\"quickchart('df-15909db7-08cb-4906-8a66-def194e8b93c')\"\n",
              "                title=\"Suggest charts\"\n",
              "                style=\"display:none;\">\n",
              "\n",
              "<svg xmlns=\"http://www.w3.org/2000/svg\" height=\"24px\"viewBox=\"0 0 24 24\"\n",
              "     width=\"24px\">\n",
              "    <g>\n",
              "        <path d=\"M19 3H5c-1.1 0-2 .9-2 2v14c0 1.1.9 2 2 2h14c1.1 0 2-.9 2-2V5c0-1.1-.9-2-2-2zM9 17H7v-7h2v7zm4 0h-2V7h2v10zm4 0h-2v-4h2v4z\"/>\n",
              "    </g>\n",
              "</svg>\n",
              "      </button>\n",
              "\n",
              "<style>\n",
              "  .colab-df-quickchart {\n",
              "      --bg-color: #E8F0FE;\n",
              "      --fill-color: #1967D2;\n",
              "      --hover-bg-color: #E2EBFA;\n",
              "      --hover-fill-color: #174EA6;\n",
              "      --disabled-fill-color: #AAA;\n",
              "      --disabled-bg-color: #DDD;\n",
              "  }\n",
              "\n",
              "  [theme=dark] .colab-df-quickchart {\n",
              "      --bg-color: #3B4455;\n",
              "      --fill-color: #D2E3FC;\n",
              "      --hover-bg-color: #434B5C;\n",
              "      --hover-fill-color: #FFFFFF;\n",
              "      --disabled-bg-color: #3B4455;\n",
              "      --disabled-fill-color: #666;\n",
              "  }\n",
              "\n",
              "  .colab-df-quickchart {\n",
              "    background-color: var(--bg-color);\n",
              "    border: none;\n",
              "    border-radius: 50%;\n",
              "    cursor: pointer;\n",
              "    display: none;\n",
              "    fill: var(--fill-color);\n",
              "    height: 32px;\n",
              "    padding: 0;\n",
              "    width: 32px;\n",
              "  }\n",
              "\n",
              "  .colab-df-quickchart:hover {\n",
              "    background-color: var(--hover-bg-color);\n",
              "    box-shadow: 0 1px 2px rgba(60, 64, 67, 0.3), 0 1px 3px 1px rgba(60, 64, 67, 0.15);\n",
              "    fill: var(--button-hover-fill-color);\n",
              "  }\n",
              "\n",
              "  .colab-df-quickchart-complete:disabled,\n",
              "  .colab-df-quickchart-complete:disabled:hover {\n",
              "    background-color: var(--disabled-bg-color);\n",
              "    fill: var(--disabled-fill-color);\n",
              "    box-shadow: none;\n",
              "  }\n",
              "\n",
              "  .colab-df-spinner {\n",
              "    border: 2px solid var(--fill-color);\n",
              "    border-color: transparent;\n",
              "    border-bottom-color: var(--fill-color);\n",
              "    animation:\n",
              "      spin 1s steps(1) infinite;\n",
              "  }\n",
              "\n",
              "  @keyframes spin {\n",
              "    0% {\n",
              "      border-color: transparent;\n",
              "      border-bottom-color: var(--fill-color);\n",
              "      border-left-color: var(--fill-color);\n",
              "    }\n",
              "    20% {\n",
              "      border-color: transparent;\n",
              "      border-left-color: var(--fill-color);\n",
              "      border-top-color: var(--fill-color);\n",
              "    }\n",
              "    30% {\n",
              "      border-color: transparent;\n",
              "      border-left-color: var(--fill-color);\n",
              "      border-top-color: var(--fill-color);\n",
              "      border-right-color: var(--fill-color);\n",
              "    }\n",
              "    40% {\n",
              "      border-color: transparent;\n",
              "      border-right-color: var(--fill-color);\n",
              "      border-top-color: var(--fill-color);\n",
              "    }\n",
              "    60% {\n",
              "      border-color: transparent;\n",
              "      border-right-color: var(--fill-color);\n",
              "    }\n",
              "    80% {\n",
              "      border-color: transparent;\n",
              "      border-right-color: var(--fill-color);\n",
              "      border-bottom-color: var(--fill-color);\n",
              "    }\n",
              "    90% {\n",
              "      border-color: transparent;\n",
              "      border-bottom-color: var(--fill-color);\n",
              "    }\n",
              "  }\n",
              "</style>\n",
              "\n",
              "      <script>\n",
              "        async function quickchart(key) {\n",
              "          const quickchartButtonEl =\n",
              "            document.querySelector('#' + key + ' button');\n",
              "          quickchartButtonEl.disabled = true;  // To prevent multiple clicks.\n",
              "          quickchartButtonEl.classList.add('colab-df-spinner');\n",
              "          try {\n",
              "            const charts = await google.colab.kernel.invokeFunction(\n",
              "                'suggestCharts', [key], {});\n",
              "          } catch (error) {\n",
              "            console.error('Error during call to suggestCharts:', error);\n",
              "          }\n",
              "          quickchartButtonEl.classList.remove('colab-df-spinner');\n",
              "          quickchartButtonEl.classList.add('colab-df-quickchart-complete');\n",
              "        }\n",
              "        (() => {\n",
              "          let quickchartButtonEl =\n",
              "            document.querySelector('#df-15909db7-08cb-4906-8a66-def194e8b93c button');\n",
              "          quickchartButtonEl.style.display =\n",
              "            google.colab.kernel.accessAllowed ? 'block' : 'none';\n",
              "        })();\n",
              "      </script>\n",
              "    </div>\n",
              "    </div>\n",
              "  </div>\n"
            ],
            "application/vnd.google.colaboratory.intrinsic+json": {
              "type": "dataframe",
              "variable_name": "df"
            }
          },
          "metadata": {},
          "execution_count": 54
        }
      ]
    },
    {
      "cell_type": "code",
      "source": [
        "df.info()"
      ],
      "metadata": {
        "colab": {
          "base_uri": "https://localhost:8080/"
        },
        "id": "06Wwi3AolLaZ",
        "outputId": "3f16ae63-042b-45c6-fff9-efef000f1a7e"
      },
      "id": "06Wwi3AolLaZ",
      "execution_count": 55,
      "outputs": [
        {
          "output_type": "stream",
          "name": "stdout",
          "text": [
            "<class 'pandas.core.frame.DataFrame'>\n",
            "RangeIndex: 541909 entries, 0 to 541908\n",
            "Data columns (total 8 columns):\n",
            " #   Column       Non-Null Count   Dtype  \n",
            "---  ------       --------------   -----  \n",
            " 0   InvoiceNo    541909 non-null  object \n",
            " 1   StockCode    541909 non-null  object \n",
            " 2   Description  540455 non-null  object \n",
            " 3   Quantity     541909 non-null  int64  \n",
            " 4   InvoiceDate  541909 non-null  object \n",
            " 5   UnitPrice    541909 non-null  float64\n",
            " 6   CustomerID   406829 non-null  float64\n",
            " 7   Country      541909 non-null  object \n",
            "dtypes: float64(2), int64(1), object(5)\n",
            "memory usage: 33.1+ MB\n"
          ]
        }
      ]
    },
    {
      "cell_type": "code",
      "source": [
        "# Кількість пропущених значень у колонці CustomerID\n",
        "missing_before = df['CustomerID'].isna().sum()\n",
        "missing_before"
      ],
      "metadata": {
        "colab": {
          "base_uri": "https://localhost:8080/"
        },
        "id": "l0dfHKT9rTkJ",
        "outputId": "63b7f5a9-a631-4ed1-b70d-57f0caa881c8"
      },
      "id": "l0dfHKT9rTkJ",
      "execution_count": 56,
      "outputs": [
        {
          "output_type": "execute_result",
          "data": {
            "text/plain": [
              "135080"
            ]
          },
          "metadata": {},
          "execution_count": 56
        }
      ]
    },
    {
      "cell_type": "code",
      "source": [
        "# Заповнюємо пропущені значення\n",
        "df['CustomerID'] = df['CustomerID'].fillna(-1)\n",
        "\n",
        "# Перетворюємо тип колонки на str (рядковий)\n",
        "df['CustomerID'] = df['CustomerID'].astype(str)"
      ],
      "metadata": {
        "id": "FgyB5s5Mq4fH"
      },
      "id": "FgyB5s5Mq4fH",
      "execution_count": 57,
      "outputs": []
    },
    {
      "cell_type": "code",
      "source": [
        "print(df['CustomerID'].dtype)"
      ],
      "metadata": {
        "colab": {
          "base_uri": "https://localhost:8080/"
        },
        "id": "Pz7qQsjqrB0Z",
        "outputId": "4b237579-b318-4089-d00f-3ebc7e9cae4a"
      },
      "id": "Pz7qQsjqrB0Z",
      "execution_count": 58,
      "outputs": [
        {
          "output_type": "stream",
          "name": "stdout",
          "text": [
            "object\n"
          ]
        }
      ]
    },
    {
      "cell_type": "code",
      "source": [
        "missing = df['CustomerID'].isna().sum()\n",
        "missing"
      ],
      "metadata": {
        "colab": {
          "base_uri": "https://localhost:8080/"
        },
        "id": "CWPFP71GrpWc",
        "outputId": "2cc93b59-61de-4b72-ba96-b27abcce4890"
      },
      "id": "CWPFP71GrpWc",
      "execution_count": 59,
      "outputs": [
        {
          "output_type": "execute_result",
          "data": {
            "text/plain": [
              "0"
            ]
          },
          "metadata": {},
          "execution_count": 59
        }
      ]
    },
    {
      "cell_type": "code",
      "source": [
        "!pip install sweetviz\n",
        "import sweetviz as sv"
      ],
      "metadata": {
        "colab": {
          "base_uri": "https://localhost:8080/"
        },
        "id": "vuyhmH7v_jqs",
        "outputId": "abcdc760-ba8e-4218-fd79-7ca4e31760b6"
      },
      "id": "vuyhmH7v_jqs",
      "execution_count": 60,
      "outputs": [
        {
          "output_type": "stream",
          "name": "stdout",
          "text": [
            "Requirement already satisfied: sweetviz in /usr/local/lib/python3.12/dist-packages (2.3.1)\n",
            "Requirement already satisfied: pandas!=1.0.0,!=1.0.1,!=1.0.2,>=0.25.3 in /usr/local/lib/python3.12/dist-packages (from sweetviz) (2.2.2)\n",
            "Requirement already satisfied: numpy>=1.16.0 in /usr/local/lib/python3.12/dist-packages (from sweetviz) (1.26.4)\n",
            "Requirement already satisfied: matplotlib>=3.1.3 in /usr/local/lib/python3.12/dist-packages (from sweetviz) (3.10.0)\n",
            "Requirement already satisfied: tqdm>=4.43.0 in /usr/local/lib/python3.12/dist-packages (from sweetviz) (4.67.1)\n",
            "Requirement already satisfied: scipy>=1.3.2 in /usr/local/lib/python3.12/dist-packages (from sweetviz) (1.16.3)\n",
            "Requirement already satisfied: jinja2>=2.11.1 in /usr/local/lib/python3.12/dist-packages (from sweetviz) (3.1.6)\n",
            "Requirement already satisfied: importlib-resources>=1.2.0 in /usr/local/lib/python3.12/dist-packages (from sweetviz) (6.5.2)\n",
            "Requirement already satisfied: MarkupSafe>=2.0 in /usr/local/lib/python3.12/dist-packages (from jinja2>=2.11.1->sweetviz) (3.0.3)\n",
            "Requirement already satisfied: contourpy>=1.0.1 in /usr/local/lib/python3.12/dist-packages (from matplotlib>=3.1.3->sweetviz) (1.3.3)\n",
            "Requirement already satisfied: cycler>=0.10 in /usr/local/lib/python3.12/dist-packages (from matplotlib>=3.1.3->sweetviz) (0.12.1)\n",
            "Requirement already satisfied: fonttools>=4.22.0 in /usr/local/lib/python3.12/dist-packages (from matplotlib>=3.1.3->sweetviz) (4.60.1)\n",
            "Requirement already satisfied: kiwisolver>=1.3.1 in /usr/local/lib/python3.12/dist-packages (from matplotlib>=3.1.3->sweetviz) (1.4.9)\n",
            "Requirement already satisfied: packaging>=20.0 in /usr/local/lib/python3.12/dist-packages (from matplotlib>=3.1.3->sweetviz) (25.0)\n",
            "Requirement already satisfied: pillow>=8 in /usr/local/lib/python3.12/dist-packages (from matplotlib>=3.1.3->sweetviz) (11.3.0)\n",
            "Requirement already satisfied: pyparsing>=2.3.1 in /usr/local/lib/python3.12/dist-packages (from matplotlib>=3.1.3->sweetviz) (3.2.5)\n",
            "Requirement already satisfied: python-dateutil>=2.7 in /usr/local/lib/python3.12/dist-packages (from matplotlib>=3.1.3->sweetviz) (2.9.0.post0)\n",
            "Requirement already satisfied: pytz>=2020.1 in /usr/local/lib/python3.12/dist-packages (from pandas!=1.0.0,!=1.0.1,!=1.0.2,>=0.25.3->sweetviz) (2025.2)\n",
            "Requirement already satisfied: tzdata>=2022.7 in /usr/local/lib/python3.12/dist-packages (from pandas!=1.0.0,!=1.0.1,!=1.0.2,>=0.25.3->sweetviz) (2025.2)\n",
            "Requirement already satisfied: six>=1.5 in /usr/local/lib/python3.12/dist-packages (from python-dateutil>=2.7->matplotlib>=3.1.3->sweetviz) (1.17.0)\n"
          ]
        }
      ]
    },
    {
      "cell_type": "code",
      "source": [
        "!pip install numpy==1.26.4"
      ],
      "metadata": {
        "colab": {
          "base_uri": "https://localhost:8080/"
        },
        "id": "9DLEumpJlIya",
        "outputId": "3fdd15c4-27eb-40d7-855e-89652c9b1e3c"
      },
      "id": "9DLEumpJlIya",
      "execution_count": 24,
      "outputs": [
        {
          "output_type": "stream",
          "name": "stdout",
          "text": [
            "Requirement already satisfied: numpy==1.26.4 in /usr/local/lib/python3.12/dist-packages (1.26.4)\n"
          ]
        }
      ]
    },
    {
      "cell_type": "code",
      "source": [
        "# Фільтруємо дані для двох країн\n",
        "germany_df = df[df['Country'] == 'Germany']\n",
        "france_df = df[df['Country'] == 'France']\n",
        "\n",
        "report = sv.compare([germany_df, \"Germany\"], [france_df, \"France\"])\n",
        "\n",
        "report.show_html('/content/drive/MyDrive/DA_in_IT/ecommerce_report.html', open_browser=False)"
      ],
      "metadata": {
        "colab": {
          "base_uri": "https://localhost:8080/",
          "height": 67,
          "referenced_widgets": [
            "8a249f211f6d4fc29530c0c848df8bf3",
            "619885bae1ac4acebd5321a139711b0b",
            "bc1451da0c7747689e51574a25d8a38d",
            "b0e45295559e4e3da3e1dec0939a1eea",
            "e1190787f54047af8e015850045b79f3",
            "905e3a181ecf469caed692584753f025",
            "f261fc83dd4249feb79f7cb776b99859",
            "885ca11a7ccb466ab2c93832b30623f4",
            "ea84b6a45664498183b5f08ebad9c80e",
            "dc779f54e0524c93877f662e8fc4bc6d",
            "2a32e67fc83b4aafac51c3651a265386"
          ]
        },
        "id": "x52BFwk9_vBq",
        "outputId": "a0fc4415-05aa-466e-c057-8409b9306a1c"
      },
      "id": "x52BFwk9_vBq",
      "execution_count": 31,
      "outputs": [
        {
          "output_type": "display_data",
          "data": {
            "text/plain": [
              "                                             |          | [  0%]   00:00 -> (? left)"
            ],
            "application/vnd.jupyter.widget-view+json": {
              "version_major": 2,
              "version_minor": 0,
              "model_id": "8a249f211f6d4fc29530c0c848df8bf3"
            }
          },
          "metadata": {}
        },
        {
          "output_type": "stream",
          "name": "stdout",
          "text": [
            "Report /content/drive/MyDrive/DA_in_IT/ecommerce_report.html was generated.\n"
          ]
        }
      ]
    },
    {
      "cell_type": "markdown",
      "source": [
        "1. Кількість транзакцій, Germany: 9 495, France: 8 557\n",
        "2. StockCode (унікальні товари): Germany — 1 671, France — 1 543\n",
        "3. Дата (InvoiceDate)\n",
        "  Німеччина має більшу кількість повторних InvoiceNo — тобто більше замовлень від одного клієнта.\n",
        "  Франція має менше дублікатів, отже — можливо, менше постійних покупців."
      ],
      "metadata": {
        "id": "NHs_Gu0Ut7aP"
      },
      "id": "NHs_Gu0Ut7aP"
    },
    {
      "cell_type": "markdown",
      "id": "07ae375a",
      "metadata": {
        "ExecuteTime": {
          "end_time": "2023-07-30T18:55:42.650457Z",
          "start_time": "2023-07-30T18:55:42.635729Z"
        },
        "id": "07ae375a"
      },
      "source": [
        "8.З допомогою ChatGPT виявіть, чи є та які помилки в наступному коді.  \n",
        "Попросіть після цього переписати код із дотриманням PEP8. Проаналізуйте результат. Чи справді ChatGPT виправив всі стилістичні помилки? Якщо ні, напишіть йому ще кілька запитів, аби код відповідав вимогам PEP8.  \n",
        "Вставте фінальну версію коду з чату у ноутбук та запустіть на заданому списку. Має вертатись 50.  \n",
        "Напишіть, які промпти (інструкції) при зверненні до ChatGPT ви застосували та додайте скріншот(-и) з промптами та відповідями чата.  \n",
        "Якщо зробили висновки при виконанні цього завдання, то діліться також :)\n",
        "\n",
        "**ЯК ВСТАВИТИ СКРІНШОТ в Jupyter Notebook** :\n",
        "1. Створіть нову Markdown клітинку\n",
        "2. В новоствореній клітинці обираєте в меню Jupyter Notebook Edit -> Insert Image\n",
        "3. Обираєте картинку\n",
        "4. В клітинці має зʼявитись текст, який містить картинку. Запустіть клітинку.\n",
        "\n",
        "Або можна просто перетягнути картинку в Markdown клітинку."
      ]
    },
    {
      "cell_type": "code",
      "execution_count": 32,
      "id": "a5c010c4",
      "metadata": {
        "ExecuteTime": {
          "end_time": "2023-07-30T19:16:20.977219Z",
          "start_time": "2023-07-30T19:16:20.973688Z"
        },
        "id": "a5c010c4"
      },
      "outputs": [],
      "source": [
        "def CalculateVariance(nl):\n",
        "    sum_list = 0\n",
        "    for n in nl:\n",
        "        sum_list = sum_list + n\n",
        "    mean = sum_list / len(nl)\n",
        "    sum_squares = 0\n",
        "    for n in nl:\n",
        "        sum_squares = sum_squares + n**2\n",
        "    mean_squares = sum_squares / len(nl)\n",
        "    return mean_squares"
      ]
    },
    {
      "cell_type": "code",
      "execution_count": 34,
      "id": "24bb3f81",
      "metadata": {
        "ExecuteTime": {
          "end_time": "2023-07-30T19:16:09.201841Z",
          "start_time": "2023-07-30T19:16:09.199174Z"
        },
        "id": "24bb3f81"
      },
      "outputs": [],
      "source": [
        "input_list = [75, 80, 85, 90, 95]"
      ]
    },
    {
      "cell_type": "markdown",
      "source": [
        "![Screenshot 2025-10-31 at 21.30.54.png](data:image/png;base64,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)"
      ],
      "metadata": {
        "id": "C_pt02LewcMC"
      },
      "id": "C_pt02LewcMC"
    },
    {
      "cell_type": "code",
      "source": [
        "def calculate_variance(num_list):\n",
        "    \"\"\"Return the variance of a list of numbers.\"\"\"\n",
        "    sum_list = 0\n",
        "    for n in num_list:\n",
        "        sum_list = sum_list + n\n",
        "    mean = sum_list / len(num_list)\n",
        "\n",
        "    sum_squares = 0\n",
        "    for n in num_list:\n",
        "        sum_squares = sum_squares + n**2\n",
        "    mean_squares = sum_squares / len(num_list)\n",
        "\n",
        "    variance = mean_squares - mean**2\n",
        "    return variance\n",
        "\n",
        "\n",
        "input_list = [75, 80, 85, 90, 95]\n",
        "print(calculate_variance(input_list))\n"
      ],
      "metadata": {
        "colab": {
          "base_uri": "https://localhost:8080/"
        },
        "id": "DLhhl3Nzwqg7",
        "outputId": "3910fa6b-b9de-4a6e-e3da-33b5a2be3551"
      },
      "id": "DLhhl3Nzwqg7",
      "execution_count": 35,
      "outputs": [
        {
          "output_type": "stream",
          "name": "stdout",
          "text": [
            "50.0\n"
          ]
        }
      ]
    },
    {
      "cell_type": "code",
      "source": [
        "#Код можна зробити коротшим і більш “пайтонічним”:\n",
        "def calculate_variance(num_list):\n",
        "    mean = sum(num_list) / len(num_list)\n",
        "    return sum((x - mean) ** 2 for x in num_list) / len(num_list)\n",
        "\n",
        "input_list = [75, 80, 85, 90, 95]\n",
        "print(calculate_variance(input_list))\n"
      ],
      "metadata": {
        "colab": {
          "base_uri": "https://localhost:8080/"
        },
        "id": "86FO7ehQwxCs",
        "outputId": "e9e83610-67cf-4a48-8b5b-7aaf8fadb6d3"
      },
      "id": "86FO7ehQwxCs",
      "execution_count": 37,
      "outputs": [
        {
          "output_type": "stream",
          "name": "stdout",
          "text": [
            "50.0\n"
          ]
        }
      ]
    }
  ],
  "metadata": {
    "kernelspec": {
      "display_name": "Python 3 (ipykernel)",
      "language": "python",
      "name": "python3"
    },
    "language_info": {
      "codemirror_mode": {
        "name": "ipython",
        "version": 3
      },
      "file_extension": ".py",
      "mimetype": "text/x-python",
      "name": "python",
      "nbconvert_exporter": "python",
      "pygments_lexer": "ipython3",
      "version": "3.10.4"
    },
    "toc": {
      "base_numbering": 1,
      "nav_menu": {},
      "number_sections": true,
      "sideBar": true,
      "skip_h1_title": false,
      "title_cell": "Table of Contents",
      "title_sidebar": "Contents",
      "toc_cell": false,
      "toc_position": {},
      "toc_section_display": true,
      "toc_window_display": false
    },
    "colab": {
      "provenance": [],
      "include_colab_link": true
    },
    "widgets": {
      "application/vnd.jupyter.widget-state+json": {
        "8a249f211f6d4fc29530c0c848df8bf3": {
          "model_module": "@jupyter-widgets/controls",
          "model_name": "HBoxModel",
          "model_module_version": "1.5.0",
          "state": {
            "_dom_classes": [],
            "_model_module": "@jupyter-widgets/controls",
            "_model_module_version": "1.5.0",
            "_model_name": "HBoxModel",
            "_view_count": null,
            "_view_module": "@jupyter-widgets/controls",
            "_view_module_version": "1.5.0",
            "_view_name": "HBoxView",
            "box_style": "",
            "children": [
              "IPY_MODEL_619885bae1ac4acebd5321a139711b0b",
              "IPY_MODEL_bc1451da0c7747689e51574a25d8a38d",
              "IPY_MODEL_b0e45295559e4e3da3e1dec0939a1eea"
            ],
            "layout": "IPY_MODEL_e1190787f54047af8e015850045b79f3"
          }
        },
        "619885bae1ac4acebd5321a139711b0b": {
          "model_module": "@jupyter-widgets/controls",
          "model_name": "HTMLModel",
          "model_module_version": "1.5.0",
          "state": {
            "_dom_classes": [],
            "_model_module": "@jupyter-widgets/controls",
            "_model_module_version": "1.5.0",
            "_model_name": "HTMLModel",
            "_view_count": null,
            "_view_module": "@jupyter-widgets/controls",
            "_view_module_version": "1.5.0",
            "_view_name": "HTMLView",
            "description": "",
            "description_tooltip": null,
            "layout": "IPY_MODEL_905e3a181ecf469caed692584753f025",
            "placeholder": "​",
            "style": "IPY_MODEL_f261fc83dd4249feb79f7cb776b99859",
            "value": "Done! Use &#x27;show&#x27; commands to display/save.   "
          }
        },
        "bc1451da0c7747689e51574a25d8a38d": {
          "model_module": "@jupyter-widgets/controls",
          "model_name": "FloatProgressModel",
          "model_module_version": "1.5.0",
          "state": {
            "_dom_classes": [],
            "_model_module": "@jupyter-widgets/controls",
            "_model_module_version": "1.5.0",
            "_model_name": "FloatProgressModel",
            "_view_count": null,
            "_view_module": "@jupyter-widgets/controls",
            "_view_module_version": "1.5.0",
            "_view_name": "ProgressView",
            "bar_style": "success",
            "description": "",
            "description_tooltip": null,
            "layout": "IPY_MODEL_885ca11a7ccb466ab2c93832b30623f4",
            "max": 1,
            "min": 0,
            "orientation": "horizontal",
            "style": "IPY_MODEL_ea84b6a45664498183b5f08ebad9c80e",
            "value": 1
          }
        },
        "b0e45295559e4e3da3e1dec0939a1eea": {
          "model_module": "@jupyter-widgets/controls",
          "model_name": "HTMLModel",
          "model_module_version": "1.5.0",
          "state": {
            "_dom_classes": [],
            "_model_module": "@jupyter-widgets/controls",
            "_model_module_version": "1.5.0",
            "_model_name": "HTMLModel",
            "_view_count": null,
            "_view_module": "@jupyter-widgets/controls",
            "_view_module_version": "1.5.0",
            "_view_name": "HTMLView",
            "description": "",
            "description_tooltip": null,
            "layout": "IPY_MODEL_dc779f54e0524c93877f662e8fc4bc6d",
            "placeholder": "​",
            "style": "IPY_MODEL_2a32e67fc83b4aafac51c3651a265386",
            "value": " [100%]   00:01 -&gt; (00:00 left)"
          }
        },
        "e1190787f54047af8e015850045b79f3": {
          "model_module": "@jupyter-widgets/base",
          "model_name": "LayoutModel",
          "model_module_version": "1.2.0",
          "state": {
            "_model_module": "@jupyter-widgets/base",
            "_model_module_version": "1.2.0",
            "_model_name": "LayoutModel",
            "_view_count": null,
            "_view_module": "@jupyter-widgets/base",
            "_view_module_version": "1.2.0",
            "_view_name": "LayoutView",
            "align_content": null,
            "align_items": null,
            "align_self": null,
            "border": null,
            "bottom": null,
            "display": "inline-flex",
            "flex": null,
            "flex_flow": "row wrap",
            "grid_area": null,
            "grid_auto_columns": null,
            "grid_auto_flow": null,
            "grid_auto_rows": null,
            "grid_column": null,
            "grid_gap": null,
            "grid_row": null,
            "grid_template_areas": null,
            "grid_template_columns": null,
            "grid_template_rows": null,
            "height": null,
            "justify_content": null,
            "justify_items": null,
            "left": null,
            "margin": null,
            "max_height": null,
            "max_width": null,
            "min_height": null,
            "min_width": null,
            "object_fit": null,
            "object_position": null,
            "order": null,
            "overflow": null,
            "overflow_x": null,
            "overflow_y": null,
            "padding": null,
            "right": null,
            "top": null,
            "visibility": null,
            "width": "100%"
          }
        },
        "905e3a181ecf469caed692584753f025": {
          "model_module": "@jupyter-widgets/base",
          "model_name": "LayoutModel",
          "model_module_version": "1.2.0",
          "state": {
            "_model_module": "@jupyter-widgets/base",
            "_model_module_version": "1.2.0",
            "_model_name": "LayoutModel",
            "_view_count": null,
            "_view_module": "@jupyter-widgets/base",
            "_view_module_version": "1.2.0",
            "_view_name": "LayoutView",
            "align_content": null,
            "align_items": null,
            "align_self": null,
            "border": null,
            "bottom": null,
            "display": null,
            "flex": null,
            "flex_flow": null,
            "grid_area": null,
            "grid_auto_columns": null,
            "grid_auto_flow": null,
            "grid_auto_rows": null,
            "grid_column": null,
            "grid_gap": null,
            "grid_row": null,
            "grid_template_areas": null,
            "grid_template_columns": null,
            "grid_template_rows": null,
            "height": null,
            "justify_content": null,
            "justify_items": null,
            "left": null,
            "margin": null,
            "max_height": null,
            "max_width": null,
            "min_height": null,
            "min_width": null,
            "object_fit": null,
            "object_position": null,
            "order": null,
            "overflow": null,
            "overflow_x": null,
            "overflow_y": null,
            "padding": null,
            "right": null,
            "top": null,
            "visibility": null,
            "width": null
          }
        },
        "f261fc83dd4249feb79f7cb776b99859": {
          "model_module": "@jupyter-widgets/controls",
          "model_name": "DescriptionStyleModel",
          "model_module_version": "1.5.0",
          "state": {
            "_model_module": "@jupyter-widgets/controls",
            "_model_module_version": "1.5.0",
            "_model_name": "DescriptionStyleModel",
            "_view_count": null,
            "_view_module": "@jupyter-widgets/base",
            "_view_module_version": "1.2.0",
            "_view_name": "StyleView",
            "description_width": ""
          }
        },
        "885ca11a7ccb466ab2c93832b30623f4": {
          "model_module": "@jupyter-widgets/base",
          "model_name": "LayoutModel",
          "model_module_version": "1.2.0",
          "state": {
            "_model_module": "@jupyter-widgets/base",
            "_model_module_version": "1.2.0",
            "_model_name": "LayoutModel",
            "_view_count": null,
            "_view_module": "@jupyter-widgets/base",
            "_view_module_version": "1.2.0",
            "_view_name": "LayoutView",
            "align_content": null,
            "align_items": null,
            "align_self": null,
            "border": null,
            "bottom": null,
            "display": null,
            "flex": "2",
            "flex_flow": null,
            "grid_area": null,
            "grid_auto_columns": null,
            "grid_auto_flow": null,
            "grid_auto_rows": null,
            "grid_column": null,
            "grid_gap": null,
            "grid_row": null,
            "grid_template_areas": null,
            "grid_template_columns": null,
            "grid_template_rows": null,
            "height": null,
            "justify_content": null,
            "justify_items": null,
            "left": null,
            "margin": null,
            "max_height": null,
            "max_width": null,
            "min_height": null,
            "min_width": null,
            "object_fit": null,
            "object_position": null,
            "order": null,
            "overflow": null,
            "overflow_x": null,
            "overflow_y": null,
            "padding": null,
            "right": null,
            "top": null,
            "visibility": null,
            "width": null
          }
        },
        "ea84b6a45664498183b5f08ebad9c80e": {
          "model_module": "@jupyter-widgets/controls",
          "model_name": "ProgressStyleModel",
          "model_module_version": "1.5.0",
          "state": {
            "_model_module": "@jupyter-widgets/controls",
            "_model_module_version": "1.5.0",
            "_model_name": "ProgressStyleModel",
            "_view_count": null,
            "_view_module": "@jupyter-widgets/base",
            "_view_module_version": "1.2.0",
            "_view_name": "StyleView",
            "bar_color": null,
            "description_width": ""
          }
        },
        "dc779f54e0524c93877f662e8fc4bc6d": {
          "model_module": "@jupyter-widgets/base",
          "model_name": "LayoutModel",
          "model_module_version": "1.2.0",
          "state": {
            "_model_module": "@jupyter-widgets/base",
            "_model_module_version": "1.2.0",
            "_model_name": "LayoutModel",
            "_view_count": null,
            "_view_module": "@jupyter-widgets/base",
            "_view_module_version": "1.2.0",
            "_view_name": "LayoutView",
            "align_content": null,
            "align_items": null,
            "align_self": null,
            "border": null,
            "bottom": null,
            "display": null,
            "flex": null,
            "flex_flow": null,
            "grid_area": null,
            "grid_auto_columns": null,
            "grid_auto_flow": null,
            "grid_auto_rows": null,
            "grid_column": null,
            "grid_gap": null,
            "grid_row": null,
            "grid_template_areas": null,
            "grid_template_columns": null,
            "grid_template_rows": null,
            "height": null,
            "justify_content": null,
            "justify_items": null,
            "left": null,
            "margin": null,
            "max_height": null,
            "max_width": null,
            "min_height": null,
            "min_width": null,
            "object_fit": null,
            "object_position": null,
            "order": null,
            "overflow": null,
            "overflow_x": null,
            "overflow_y": null,
            "padding": null,
            "right": null,
            "top": null,
            "visibility": null,
            "width": null
          }
        },
        "2a32e67fc83b4aafac51c3651a265386": {
          "model_module": "@jupyter-widgets/controls",
          "model_name": "DescriptionStyleModel",
          "model_module_version": "1.5.0",
          "state": {
            "_model_module": "@jupyter-widgets/controls",
            "_model_module_version": "1.5.0",
            "_model_name": "DescriptionStyleModel",
            "_view_count": null,
            "_view_module": "@jupyter-widgets/base",
            "_view_module_version": "1.2.0",
            "_view_name": "StyleView",
            "description_width": ""
          }
        }
      }
    }
  },
  "nbformat": 4,
  "nbformat_minor": 5
}